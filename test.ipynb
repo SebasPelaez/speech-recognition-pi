{
 "cells": [
  {
   "cell_type": "code",
   "execution_count": 1,
   "metadata": {},
   "outputs": [
    {
     "name": "stderr",
     "output_type": "stream",
     "text": [
      "Using TensorFlow backend.\n"
     ]
    }
   ],
   "source": [
    "import numpy as np\n",
    "import pandas as pd\n",
    "import tensorflow as tf\n",
    "import keras\n",
    "import os"
   ]
  },
  {
   "cell_type": "code",
   "execution_count": 2,
   "metadata": {},
   "outputs": [],
   "source": [
    "# return a map with the labels\n",
    "def make_id_label_map():\n",
    "    path = os.path.join('dataset', 'images')\n",
    "    labels = dict()\n",
    "    for i,value in enumerate(os.listdir(path)):\n",
    "        labels[value] = i\n",
    "        \n",
    "    return labels"
   ]
  },
  {
   "cell_type": "code",
   "execution_count": 3,
   "metadata": {},
   "outputs": [],
   "source": [
    "# create a .cvs file that contains the images urls and labels\n",
    "def make_data_file():\n",
    "    labels = make_id_label_map()\n",
    "    \n",
    "    path = os.path.join('dataset','images')\n",
    "    path_file = os.path.join('dataset','data.csv')\n",
    "    \n",
    "    text_file = open(path_file, 'w')\n",
    "    text_file.write('images,labels\\n')\n",
    "\n",
    "    for folder in os.listdir(path):\n",
    "        folder_path = os.path.join(path,folder)\n",
    "        for i in os.listdir(folder_path):\n",
    "            text_file.write(os.path.join(folder_path,i)+','+str(labels[folder])+'\\n')\n",
    "\n",
    "    text_file.close()"
   ]
  },
  {
   "cell_type": "code",
   "execution_count": 4,
   "metadata": {},
   "outputs": [],
   "source": [
    "def make_datagenerator():\n",
    "    file_path = os.path.join('dataset','data.csv')\n",
    "    df = pd.read_csv(file_path, header=0)\n",
    "    #df = df.sample(frac=1).reset_index(drop=True)\n",
    "    datagen = keras.preprocessing.image.ImageDataGenerator(rescale=1./255)\n",
    "    generator = datagen.flow_from_dataframe(\n",
    "        dataframe = df,\n",
    "        x_col = 'images',\n",
    "        y_col = 'labels',\n",
    "        target_size = (224,224),\n",
    "        batch_size = 3,\n",
    "        class_mode = 'other'\n",
    "    )\n",
    "    return generator"
   ]
  },
  {
   "cell_type": "code",
   "execution_count": 5,
   "metadata": {},
   "outputs": [
    {
     "name": "stdout",
     "output_type": "stream",
     "text": [
      "WARNING:tensorflow:From /anaconda3/lib/python3.7/site-packages/tensorflow/python/ops/resource_variable_ops.py:435: colocate_with (from tensorflow.python.framework.ops) is deprecated and will be removed in a future version.\n",
      "Instructions for updating:\n",
      "Colocations handled automatically by placer.\n",
      "_________________________________________________________________\n",
      "Layer (type)                 Output Shape              Param #   \n",
      "=================================================================\n",
      "mobilenet_1.00_224 (Model)   (None, 7, 7, 1024)        3228864   \n",
      "_________________________________________________________________\n",
      "global_average_pooling2d (Gl (None, 1024)              0         \n",
      "_________________________________________________________________\n",
      "dense (Dense)                (None, 10)                10250     \n",
      "=================================================================\n",
      "Total params: 3,239,114\n",
      "Trainable params: 10,250\n",
      "Non-trainable params: 3,228,864\n",
      "_________________________________________________________________\n"
     ]
    }
   ],
   "source": [
    "model = tf.keras.applications.MobileNet(include_top=False, weights='imagenet',input_shape=(224,224,3))\n",
    "model.trainable = False\n",
    "model = tf.keras.Sequential([\n",
    "    model,\n",
    "    tf.keras.layers.GlobalAveragePooling2D(),\n",
    "    tf.keras.layers.Dense(units=10, activation='softmax')\n",
    "])\n",
    "model.summary()"
   ]
  },
  {
   "cell_type": "code",
   "execution_count": 10,
   "metadata": {},
   "outputs": [
    {
     "name": "stdout",
     "output_type": "stream",
     "text": [
      "Epoch 1/10\n",
      "27/27 [==============================] - 50s 2s/step - loss: 2.4342 - acc: 0.0750\n",
      "Epoch 2/10\n",
      "27/27 [==============================] - 49s 2s/step - loss: 2.3534 - acc: 0.1184\n",
      "Epoch 3/10\n",
      "27/27 [==============================] - 49s 2s/step - loss: 2.3517 - acc: 0.0973\n",
      "Epoch 4/10\n",
      "27/27 [==============================] - 51s 2s/step - loss: 2.3558 - acc: 0.0926\n",
      "Epoch 5/10\n",
      "27/27 [==============================] - 48s 2s/step - loss: 2.3919 - acc: 0.1008\n",
      "Epoch 6/10\n",
      "27/27 [==============================] - 48s 2s/step - loss: 2.3630 - acc: 0.0891\n",
      "Epoch 7/10\n",
      "27/27 [==============================] - 50s 2s/step - loss: 2.3565 - acc: 0.1102\n",
      "Epoch 8/10\n",
      "27/27 [==============================] - 48s 2s/step - loss: 2.3766 - acc: 0.1067\n",
      "Epoch 9/10\n",
      "27/27 [==============================] - 48s 2s/step - loss: 2.3672 - acc: 0.0985\n",
      "Epoch 10/10\n",
      "27/27 [==============================] - 48s 2s/step - loss: 2.4075 - acc: 0.0996\n"
     ]
    },
    {
     "data": {
      "text/plain": [
       "<tensorflow.python.keras.callbacks.History at 0xb3569f6a0>"
      ]
     },
     "execution_count": 10,
     "metadata": {},
     "output_type": "execute_result"
    }
   ],
   "source": [
    "#generator = make_datagenerator()\n",
    "optimizer = tf.keras.optimizers.Adam()\n",
    "model.compile(optimizer=optimizer, loss='sparse_categorical_crossentropy', metrics=['accuracy'])\n",
    "model.fit_generator(generator, steps_per_epoch=270, epochs=10)"
   ]
  },
  {
   "cell_type": "code",
   "execution_count": 9,
   "metadata": {},
   "outputs": [
    {
     "name": "stdout",
     "output_type": "stream",
     "text": [
      "Found 853 images belonging to 10 classes.\n"
     ]
    }
   ],
   "source": [
    "datagen = keras.preprocessing.image.ImageDataGenerator(rescale=1./255)\n",
    "\n",
    "generator = datagen.flow_from_directory(\n",
    "        'dataset/images',\n",
    "        target_size=(224, 224),\n",
    "        batch_size=32,\n",
    "        class_mode='sparse')"
   ]
  }
 ],
 "metadata": {
  "kernelspec": {
   "display_name": "Python 3",
   "language": "python",
   "name": "python3"
  },
  "language_info": {
   "codemirror_mode": {
    "name": "ipython",
    "version": 3
   },
   "file_extension": ".py",
   "mimetype": "text/x-python",
   "name": "python",
   "nbconvert_exporter": "python",
   "pygments_lexer": "ipython3",
   "version": "3.7.3"
  }
 },
 "nbformat": 4,
 "nbformat_minor": 2
}
