{
 "cells": [
  {
   "cell_type": "code",
   "execution_count": 1,
   "metadata": {},
   "outputs": [
    {
     "name": "stderr",
     "output_type": "stream",
     "text": [
      "Using TensorFlow backend.\n",
      "/home/martin/anaconda3/envs/pi2/lib/python3.7/site-packages/pydub/utils.py:165: RuntimeWarning: Couldn't find ffmpeg or avconv - defaulting to ffmpeg, but may not work\n",
      "  warn(\"Couldn't find ffmpeg or avconv - defaulting to ffmpeg, but may not work\", RuntimeWarning)\n"
     ]
    }
   ],
   "source": [
    "import numpy as np\n",
    "import tensorflow as tf\n",
    "\n",
    "import keras\n",
    "import os\n",
    "import sys\n",
    "\n",
    "sys.path.append('..')\n",
    "import data\n",
    "import model\n",
    "import preprocessing\n",
    "import utils\n",
    "\n",
    "%load_ext autoreload\n",
    "%autoreload 2"
   ]
  },
  {
   "cell_type": "code",
   "execution_count": 6,
   "metadata": {},
   "outputs": [],
   "source": [
    "params = utils.yaml_to_dict(os.path.join('..','config.yml'))\n",
    "params['data_dir'] = os.path.join('..',params['data_dir'])\n",
    "params['model_dir'] = os.path.join('..',params['model_dir'])"
   ]
  },
  {
   "cell_type": "markdown",
   "metadata": {},
   "source": [
    "## Primer paso: preprocesar los datos \n",
    "Hacerlo solo una vez"
   ]
  },
  {
   "cell_type": "code",
   "execution_count": 7,
   "metadata": {},
   "outputs": [],
   "source": [
    "#preprocessing.download_data(params)\n",
    "#preprocessing.extract_data(params)\n",
    "#preprocessing.generate_spectogram_images(params)\n",
    "#preprocessing.make_id_label_map(params)\n",
    "preprocessing.split_data(params)"
   ]
  },
  {
   "cell_type": "markdown",
   "metadata": {},
   "source": [
    "## Segund Paso: instanciar el modelo"
   ]
  },
  {
   "cell_type": "code",
   "execution_count": 4,
   "metadata": {},
   "outputs": [
    {
     "name": "stderr",
     "output_type": "stream",
     "text": [
      "WARNING: Logging before flag parsing goes to stderr.\n",
      "W0727 10:28:17.901544 140469068961600 deprecation.py:506] From /home/martin/anaconda3/envs/pi2/lib/python3.7/site-packages/tensorflow/python/ops/init_ops.py:1251: calling VarianceScaling.__init__ (from tensorflow.python.ops.init_ops) with dtype is deprecated and will be removed in a future version.\n",
      "Instructions for updating:\n",
      "Call initializer instance with the dtype argument instead of passing it to the constructor\n"
     ]
    },
    {
     "name": "stdout",
     "output_type": "stream",
     "text": [
      "Model: \"model_architecture\"\n",
      "_________________________________________________________________\n",
      "Layer (type)                 Output Shape              Param #   \n",
      "=================================================================\n",
      "conv2d_1 (Conv2D)            (None, 55, 240, 64)       9472      \n",
      "_________________________________________________________________\n",
      "batch_normalization_2 (Batch (None, 55, 240, 64)       256       \n",
      "_________________________________________________________________\n",
      "activation_3 (Activation)    (None, 55, 240, 64)       0         \n",
      "_________________________________________________________________\n",
      "max_pooling2d (MaxPooling2D) (None, 11, 48, 3)         0         \n",
      "_________________________________________________________________\n",
      "flatten (Flatten)            (None, 1584)              0         \n",
      "_________________________________________________________________\n",
      "dense (Dense)                (None, 12)                19020     \n",
      "_________________________________________________________________\n",
      "batch_normalization_3 (Batch (None, 128)               512       \n",
      "_________________________________________________________________\n",
      "activation_4 (Activation)    (None, 128)               0         \n",
      "_________________________________________________________________\n",
      "dense_1 (Dense)              (None, 10)                130       \n",
      "_________________________________________________________________\n",
      "activation_5 (Activation)    (None, 10)                0         \n",
      "=================================================================\n",
      "Total params: 19,654\n",
      "Trainable params: 19,624\n",
      "Non-trainable params: 30\n",
      "_________________________________________________________________\n"
     ]
    }
   ],
   "source": [
    "inputs = tf.keras.layers.Input(shape=(110,480, 3))\n",
    "net = model.ModelArchitecture(num_classes=params['num_classes'])\n",
    "x = net(inputs, training=False)\n",
    "net.summary()"
   ]
  },
  {
   "cell_type": "markdown",
   "metadata": {},
   "source": [
    "## Tercer paso: crear el generador"
   ]
  },
  {
   "cell_type": "code",
   "execution_count": 9,
   "metadata": {},
   "outputs": [
    {
     "name": "stdout",
     "output_type": "stream",
     "text": [
      "Data in train\n",
      "Found 2959 images.\n",
      "Data in validation\n",
      "Found 30 images.\n"
     ]
    }
   ],
   "source": [
    "print('Data in train')\n",
    "train_generator = data.make_datagenerator(params, mode='training')\n",
    "print('Data in validation')\n",
    "val_generator = data.make_datagenerator(params,mode='validation')"
   ]
  },
  {
   "cell_type": "markdown",
   "metadata": {},
   "source": [
    "## Cuarto paso: correr el modelo"
   ]
  },
  {
   "cell_type": "code",
   "execution_count": 10,
   "metadata": {},
   "outputs": [
    {
     "name": "stderr",
     "output_type": "stream",
     "text": [
      "W0727 10:28:18.400288 140469068961600 callbacks.py:875] `period` argument is deprecated. Please use `save_freq` to specify the frequency in number of samples seen.\n"
     ]
    },
    {
     "name": "stdout",
     "output_type": "stream",
     "text": [
      "Epoch 1/25\n",
      "296/296 [==============================] - 35s 117ms/step - loss: 0.5575 - sparse_categorical_accuracy: 0.8162 - val_loss: 0.5467 - val_sparse_categorical_accuracy: 0.9000\n",
      "Epoch 2/25\n",
      " 19/296 [>.............................] - ETA: 23s - loss: 0.1152 - sparse_categorical_accuracy: 0.9684WARNING:tensorflow:Method on_batch_end() is slow compared to the batch update (0.104279). Check your callbacks.\n",
      " 20/296 [=>............................] - ETA: 23s - loss: 0.1108 - sparse_categorical_accuracy: 0.9700WARNING:tensorflow:Method on_batch_end() is slow compared to the batch update (0.104279). Check your callbacks.\n",
      " 21/296 [=>............................] - ETA: 23s - loss: 0.1114 - sparse_categorical_accuracy: 0.9714WARNING:tensorflow:Method on_batch_end() is slow compared to the batch update (0.104279). Check your callbacks.\n",
      " 22/296 [=>............................] - ETA: 22s - loss: 0.1139 - sparse_categorical_accuracy: 0.9682WARNING:tensorflow:Method on_batch_end() is slow compared to the batch update (0.104279). Check your callbacks.\n",
      " 23/296 [=>............................] - ETA: 22s - loss: 0.1154 - sparse_categorical_accuracy: 0.9696WARNING:tensorflow:Method on_batch_end() is slow compared to the batch update (0.104279). Check your callbacks.\n",
      "273/296 [==========================>...] - ETA: 1s - loss: 0.1256 - sparse_categorical_accuracy: 0.9608WARNING:tensorflow:Method on_batch_end() is slow compared to the batch update (0.118692). Check your callbacks.\n",
      "274/296 [==========================>...] - ETA: 1s - loss: 0.1252 - sparse_categorical_accuracy: 0.9609WARNING:tensorflow:Method on_batch_end() is slow compared to the batch update (0.135244). Check your callbacks.\n",
      "275/296 [==========================>...] - ETA: 1s - loss: 0.1255 - sparse_categorical_accuracy: 0.9607WARNING:tensorflow:Method on_batch_end() is slow compared to the batch update (0.118692). Check your callbacks.\n",
      "276/296 [==========================>...] - ETA: 1s - loss: 0.1251 - sparse_categorical_accuracy: 0.9609WARNING:tensorflow:Method on_batch_end() is slow compared to the batch update (0.135244). Check your callbacks.\n",
      "277/296 [===========================>..] - ETA: 1s - loss: 0.1248 - sparse_categorical_accuracy: 0.9610WARNING:tensorflow:Method on_batch_end() is slow compared to the batch update (0.135244). Check your callbacks.\n",
      "278/296 [===========================>..] - ETA: 1s - loss: 0.1244 - sparse_categorical_accuracy: 0.9612WARNING:tensorflow:Method on_batch_end() is slow compared to the batch update (0.131407). Check your callbacks.\n",
      "279/296 [===========================>..] - ETA: 1s - loss: 0.1247 - sparse_categorical_accuracy: 0.9609WARNING:tensorflow:Method on_batch_end() is slow compared to the batch update (0.116406). Check your callbacks.\n",
      "280/296 [===========================>..] - ETA: 1s - loss: 0.1244 - sparse_categorical_accuracy: 0.9611WARNING:tensorflow:Method on_batch_end() is slow compared to the batch update (0.116406). Check your callbacks.\n",
      "281/296 [===========================>..] - ETA: 1s - loss: 0.1245 - sparse_categorical_accuracy: 0.9609WARNING:tensorflow:Method on_batch_end() is slow compared to the batch update (0.113425). Check your callbacks.\n",
      "296/296 [==============================] - 23s 77ms/step - loss: 0.1298 - sparse_categorical_accuracy: 0.9588 - val_loss: 0.3847 - val_sparse_categorical_accuracy: 0.9000\n",
      "Epoch 3/25\n",
      "207/296 [===================>..........] - ETA: 6s - loss: 0.0615 - sparse_categorical_accuracy: 0.9812WARNING:tensorflow:Method on_batch_end() is slow compared to the batch update (0.138629). Check your callbacks.\n",
      "208/296 [====================>.........] - ETA: 6s - loss: 0.0612 - sparse_categorical_accuracy: 0.9812WARNING:tensorflow:Method on_batch_end() is slow compared to the batch update (0.138629). Check your callbacks.\n",
      "209/296 [====================>.........] - ETA: 6s - loss: 0.0611 - sparse_categorical_accuracy: 0.9813WARNING:tensorflow:Method on_batch_end() is slow compared to the batch update (0.146138). Check your callbacks.\n",
      "210/296 [====================>.........] - ETA: 6s - loss: 0.0610 - sparse_categorical_accuracy: 0.9814WARNING:tensorflow:Method on_batch_end() is slow compared to the batch update (0.153976). Check your callbacks.\n",
      "211/296 [====================>.........] - ETA: 6s - loss: 0.0607 - sparse_categorical_accuracy: 0.9815WARNING:tensorflow:Method on_batch_end() is slow compared to the batch update (0.153976). Check your callbacks.\n",
      "212/296 [====================>.........] - ETA: 6s - loss: 0.0605 - sparse_categorical_accuracy: 0.9816WARNING:tensorflow:Method on_batch_end() is slow compared to the batch update (0.146138). Check your callbacks.\n",
      "213/296 [====================>.........] - ETA: 6s - loss: 0.0602 - sparse_categorical_accuracy: 0.9817WARNING:tensorflow:Method on_batch_end() is slow compared to the batch update (0.146138). Check your callbacks.\n",
      "WARNING:tensorflow:Method on_batch_end() is slow compared to the batch update (0.126033). Check your callbacks.\n",
      "296/296 [==============================] - 21s 72ms/step - loss: 0.0617 - sparse_categorical_accuracy: 0.9801 - val_loss: 0.3393 - val_sparse_categorical_accuracy: 0.9333\n",
      "Epoch 4/25\n",
      "296/296 [==============================] - 19s 64ms/step - loss: 0.0378 - sparse_categorical_accuracy: 0.9885 - val_loss: 0.5760 - val_sparse_categorical_accuracy: 0.9333\n",
      "Epoch 5/25\n",
      " 60/296 [=====>........................] - ETA: 18s - loss: 0.0287 - sparse_categorical_accuracy: 0.9883 - ETA: 16s WARNING:tensorflow:Method on_batch_end() is slow compared to the batch update (0.125830). Check your callbacks.\n",
      " 61/296 [=====>........................] - ETA: 19s - loss: 0.0312 - sparse_categorical_accuracy: 0.9869WARNING:tensorflow:Method on_batch_end() is slow compared to the batch update (0.144671). Check your callbacks.\n",
      " 62/296 [=====>........................] - ETA: 19s - loss: 0.0307 - sparse_categorical_accuracy: 0.9871WARNING:tensorflow:Method on_batch_end() is slow compared to the batch update (0.144671). Check your callbacks.\n",
      "WARNING:tensorflow:Method on_batch_end() is slow compared to the batch update (0.144671). Check your callbacks.\n",
      " 64/296 [=====>........................] - ETA: 18s - loss: 0.0305 - sparse_categorical_accuracy: 0.9875WARNING:tensorflow:Method on_batch_end() is slow compared to the batch update (0.144671). Check your callbacks.\n",
      "WARNING:tensorflow:Method on_batch_end() is slow compared to the batch update (0.144671). Check your callbacks.\n",
      "295/296 [============================>.] - ETA: 0s - loss: 0.0620 - sparse_categorical_accuracy: 0.9790\n",
      "Epoch 00005: saving model to ..\\checkpoints\\tf_ckpt\n",
      "WARNING:tensorflow:This model was compiled with a Keras optimizer (<tensorflow.python.keras.optimizers.Adam object at 0x000001C93A203B38>) but is being saved in TensorFlow format with `save_weights`. The model's weights will be saved, but unlike with TensorFlow optimizers in the TensorFlow format the optimizer's state will not be saved.\n",
      "\n",
      "Consider using a TensorFlow optimizer from `tf.train`.\n",
      "296/296 [==============================] - 21s 69ms/step - loss: 0.0619 - sparse_categorical_accuracy: 0.9791 - val_loss: 0.7567 - val_sparse_categorical_accuracy: 0.9000\n",
      "Epoch 6/25\n",
      "296/296 [==============================] - 18s 61ms/step - loss: 0.0183 - sparse_categorical_accuracy: 0.9953 - val_loss: 0.3767 - val_sparse_categorical_accuracy: 0.9333\n",
      "Epoch 7/25\n",
      "296/296 [==============================] - 19s 65ms/step - loss: 0.0041 - sparse_categorical_accuracy: 0.9990 - val_loss: 0.3197 - val_sparse_categorical_accuracy: 0.9333\n",
      "Epoch 8/25\n",
      "296/296 [==============================] - 23s 79ms/step - loss: 9.3214e-04 - sparse_categorical_accuracy: 1.0000 - val_loss: 0.4222 - val_sparse_categorical_accuracy: 0.9333\n",
      "Epoch 9/25\n",
      "296/296 [==============================] - 22s 76ms/step - loss: 5.5123e-04 - sparse_categorical_accuracy: 1.0000 - val_loss: 0.4473 - val_sparse_categorical_accuracy: 0.9333\n",
      "Epoch 10/25\n",
      "295/296 [============================>.] - ETA: 0s - loss: 4.2913e-04 - sparse_categorical_accuracy: 1.0000\n",
      "Epoch 00010: saving model to ..\\checkpoints\\tf_ckpt\n",
      "WARNING:tensorflow:This model was compiled with a Keras optimizer (<tensorflow.python.keras.optimizers.Adam object at 0x000001C93A203B38>) but is being saved in TensorFlow format with `save_weights`. The model's weights will be saved, but unlike with TensorFlow optimizers in the TensorFlow format the optimizer's state will not be saved.\n",
      "\n",
      "Consider using a TensorFlow optimizer from `tf.train`.\n"
     ]
    },
    {
     "name": "stdout",
     "output_type": "stream",
     "text": [
      "296/296 [==============================] - 23s 76ms/step - loss: 4.3017e-04 - sparse_categorical_accuracy: 1.0000 - val_loss: 0.4962 - val_sparse_categorical_accuracy: 0.9333\n",
      "Epoch 11/25\n",
      "296/296 [==============================] - 22s 74ms/step - loss: 2.9919e-04 - sparse_categorical_accuracy: 1.0000 - val_loss: 0.4619 - val_sparse_categorical_accuracy: 0.9333\n",
      "Epoch 12/25\n",
      "296/296 [==============================] - 21s 71ms/step - loss: 2.5148e-04 - sparse_categorical_accuracy: 1.0000 - val_loss: 0.5127 - val_sparse_categorical_accuracy: 0.9333\n",
      "Epoch 13/25\n",
      "296/296 [==============================] - 20s 66ms/step - loss: 2.2128e-04 - sparse_categorical_accuracy: 1.0000 - val_loss: 0.4667 - val_sparse_categorical_accuracy: 0.9333\n",
      "Epoch 14/25\n",
      "296/296 [==============================] - 19s 64ms/step - loss: 1.5802e-04 - sparse_categorical_accuracy: 1.0000 - val_loss: 0.5241 - val_sparse_categorical_accuracy: 0.9333\n",
      "Epoch 15/25\n",
      " 49/296 [===>..........................] - ETA: 20s - loss: 1.4976e-04 - sparse_categorical_accuracy: 1.0000 ETA: 17s - loss: 1.7210e-04 - sparse_categoriWARNING:tensorflow:Method on_batch_end() is slow compared to the batch update (0.132208). Check your callbacks.\n",
      " 50/296 [====>.........................] - ETA: 20s - loss: 1.4691e-04 - sparse_categorical_accuracy: 1.0000WARNING:tensorflow:Method on_batch_end() is slow compared to the batch update (0.132208). Check your callbacks.\n",
      " 51/296 [====>.........................] - ETA: 19s - loss: 1.4419e-04 - sparse_categorical_accuracy: 1.0000WARNING:tensorflow:Method on_batch_end() is slow compared to the batch update (0.132208). Check your callbacks.\n",
      " 52/296 [====>.........................] - ETA: 19s - loss: 1.4171e-04 - sparse_categorical_accuracy: 1.0000WARNING:tensorflow:Method on_batch_end() is slow compared to the batch update (0.132208). Check your callbacks.\n",
      " 53/296 [====>.........................] - ETA: 19s - loss: 1.3910e-04 - sparse_categorical_accuracy: 1.0000WARNING:tensorflow:Method on_batch_end() is slow compared to the batch update (0.132208). Check your callbacks.\n",
      " 98/296 [========>.....................] - ETA: 16s - loss: 1.4350e-04 - sparse_categorical_accuracy: 1.0000WARNING:tensorflow:Method on_batch_end() is slow compared to the batch update (0.122752). Check your callbacks.\n",
      " 99/296 [=========>....................] - ETA: 16s - loss: 1.4231e-04 - sparse_categorical_accuracy: 1.0000WARNING:tensorflow:Method on_batch_end() is slow compared to the batch update (0.122752). Check your callbacks.\n",
      "100/296 [=========>....................] - ETA: 16s - loss: 1.4189e-04 - sparse_categorical_accuracy: 1.0000WARNING:tensorflow:Method on_batch_end() is slow compared to the batch update (0.122752). Check your callbacks.\n",
      "WARNING:tensorflow:Method on_batch_end() is slow compared to the batch update (0.122752). Check your callbacks.\n",
      "102/296 [=========>....................] - ETA: 15s - loss: 1.4185e-04 - sparse_categorical_accuracy: 1.0000WARNING:tensorflow:Method on_batch_end() is slow compared to the batch update (0.122752). Check your callbacks.\n",
      "294/296 [============================>.] - ETA: 0s - loss: 1.3109e-04 - sparse_categorical_accuracy: 1.0000- ETA: 2s - loss: 1.2577e-04 - spa\n",
      "Epoch 00015: saving model to ..\\checkpoints\\tf_ckpt\n",
      "WARNING:tensorflow:This model was compiled with a Keras optimizer (<tensorflow.python.keras.optimizers.Adam object at 0x000001C93A203B38>) but is being saved in TensorFlow format with `save_weights`. The model's weights will be saved, but unlike with TensorFlow optimizers in the TensorFlow format the optimizer's state will not be saved.\n",
      "\n",
      "Consider using a TensorFlow optimizer from `tf.train`.\n",
      "296/296 [==============================] - 21s 71ms/step - loss: 1.3091e-04 - sparse_categorical_accuracy: 1.0000 - val_loss: 0.4752 - val_sparse_categorical_accuracy: 0.9333\n",
      "Epoch 16/25\n",
      "296/296 [==============================] - 20s 66ms/step - loss: 1.0979e-04 - sparse_categorical_accuracy: 1.0000 - val_loss: 0.4794 - val_sparse_categorical_accuracy: 0.9333\n",
      "Epoch 17/25\n",
      "296/296 [==============================] - 19s 64ms/step - loss: 9.2049e-05 - sparse_categorical_accuracy: 1.0000 - val_loss: 0.5006 - val_sparse_categorical_accuracy: 0.9333\n",
      "Epoch 18/25\n",
      "296/296 [==============================] - 19s 64ms/step - loss: 7.2204e-05 - sparse_categorical_accuracy: 1.0000 - val_loss: 0.5140 - val_sparse_categorical_accuracy: 0.9333TA: 9s - loss: 7.1331e-05 - sparse_categorical_accuracy: 1.000 - ETA: 9s - loss: 7.0879e-05 -  - ETA: 2s - loss: 7.4570e-05 - sp\n",
      "Epoch 19/25\n",
      "296/296 [==============================] - 19s 64ms/step - loss: 6.5275e-05 - sparse_categorical_accuracy: 1.0000 - val_loss: 0.5032 - val_sparse_categorical_accuracy: 0.9333\n",
      "Epoch 20/25\n",
      "295/296 [============================>.] - ETA: 0s - loss: 5.7684e-05 - sparse_categorical_accuracy: 1.0000- ETA: 2s - loss: 6.0808e-05 - sparse_categ - ETA: 1s - loss: 5.8357e-05 - sparse_categorical_\n",
      "Epoch 00020: saving model to ..\\checkpoints\\tf_ckpt\n",
      "WARNING:tensorflow:This model was compiled with a Keras optimizer (<tensorflow.python.keras.optimizers.Adam object at 0x000001C93A203B38>) but is being saved in TensorFlow format with `save_weights`. The model's weights will be saved, but unlike with TensorFlow optimizers in the TensorFlow format the optimizer's state will not be saved.\n",
      "\n",
      "Consider using a TensorFlow optimizer from `tf.train`.\n",
      "296/296 [==============================] - 19s 63ms/step - loss: 5.7591e-05 - sparse_categorical_accuracy: 1.0000 - val_loss: 0.5358 - val_sparse_categorical_accuracy: 0.9333\n",
      "Epoch 21/25\n",
      "296/296 [==============================] - 20s 66ms/step - loss: 4.5659e-05 - sparse_categorical_accuracy: 1.0000 - val_loss: 0.5447 - val_sparse_categorical_accuracy: 0.9333\n",
      "Epoch 22/25\n",
      "296/296 [==============================] - 19s 65ms/step - loss: 3.9192e-05 - sparse_categorical_accuracy: 1.0000 - val_loss: 0.5401 - val_sparse_categorical_accuracy: 0.9333\n",
      "Epoch 23/25\n",
      "296/296 [==============================] - 19s 63ms/step - loss: 4.3031e-05 - sparse_categorical_accuracy: 1.0000 - val_loss: 0.6141 - val_sparse_categorical_accuracy: 0.9333\n",
      "Epoch 24/25\n",
      "296/296 [==============================] - 19s 64ms/step - loss: 2.9858e-05 - sparse_categorical_accuracy: 1.0000 - val_loss: 0.5452 - val_sparse_categorical_accuracy: 0.9333\n",
      "Epoch 25/25\n",
      "295/296 [============================>.] - ETA: 0s - loss: 2.3535e-05 - sparse_categorical_accuracy: 1.0000\n",
      "Epoch 00025: saving model to ..\\checkpoints\\tf_ckpt\n",
      "WARNING:tensorflow:This model was compiled with a Keras optimizer (<tensorflow.python.keras.optimizers.Adam object at 0x000001C93A203B38>) but is being saved in TensorFlow format with `save_weights`. The model's weights will be saved, but unlike with TensorFlow optimizers in the TensorFlow format the optimizer's state will not be saved.\n",
      "\n",
      "Consider using a TensorFlow optimizer from `tf.train`.\n",
      "296/296 [==============================] - 19s 65ms/step - loss: 2.3826e-05 - sparse_categorical_accuracy: 1.0000 - val_loss: 0.5280 - val_sparse_categorical_accuracy: 0.9333\n"
     ]
    },
    {
     "data": {
      "text/plain": [
       "<tensorflow.python.keras.callbacks.History at 0x1c93a203a90>"
      ]
     },
     "execution_count": 10,
     "metadata": {},
     "output_type": "execute_result"
    }
   ],
   "source": [
    "cp_callback = tf.keras.callbacks.ModelCheckpoint(\n",
    "    os.path.join(params['model_dir'], 'tf_ckpt'), \n",
    "    save_weights_only=True, \n",
    "    verbose=1,\n",
    "    period=5)\n",
    "\n",
    "tb_callback = tf.keras.callbacks.TensorBoard(\n",
    "    os.path.join(params['model_dir'], 'logs'))\n",
    "\n",
    "optimizer = tf.keras.optimizers.Adam(params['learning_rate'])\n",
    "\n",
    "steps_per_epoch = train_generator.n // params['batch_size']\n",
    "validation_steps = val_generator.n // params['batch_size']\n",
    "\n",
    "net.compile(optimizer=optimizer, loss=params['loss'], metrics=['sparse_categorical_accuracy'])\n",
    "net.fit_generator(\n",
    "    train_generator, \n",
    "    steps_per_epoch=steps_per_epoch, \n",
    "    epochs=params['num_epochs'],\n",
    "    workers=4,\n",
    "    validation_data=val_generator, \n",
    "    validation_steps=validation_steps,\n",
    "    callbacks=[cp_callback,tb_callback])"
   ]
  },
  {
   "cell_type": "code",
   "execution_count": 7,
   "metadata": {},
   "outputs": [],
   "source": [
    "#fpr, tpr, thresholds = roc_curve(y, probs)"
   ]
  },
  {
   "cell_type": "code",
   "execution_count": 8,
   "metadata": {},
   "outputs": [],
   "source": [
    "# Quintero paso: evaluar el modelo"
   ]
  },
  {
   "cell_type": "code",
   "execution_count": 9,
   "metadata": {},
   "outputs": [
    {
     "name": "stdout",
     "output_type": "stream",
     "text": [
      "Confusion Matrix\n",
      "[[0 0 1 0 0 0 0 1 1 0]\n",
      " [1 0 0 0 1 1 0 0 0 1]\n",
      " [1 0 1 0 0 0 1 0 0 0]\n",
      " [0 0 1 0 1 0 0 0 0 0]\n",
      " [0 1 0 0 0 1 0 0 1 1]\n",
      " [0 0 0 0 1 0 1 0 0 1]\n",
      " [1 1 0 0 0 0 0 0 0 1]\n",
      " [0 1 0 0 0 1 0 0 0 0]\n",
      " [0 0 1 0 0 0 1 0 0 0]\n",
      " [0 0 0 1 1 0 0 0 0 2]]\n",
      "Classification Report\n",
      "              precision    recall  f1-score   support\n",
      "\n",
      "     arranca       0.00      0.00      0.00         3\n",
      "     acelera       0.00      0.00      0.00         4\n",
      "        pita       0.25      0.33      0.29         3\n",
      "   izquierda       0.00      0.00      0.00         2\n",
      "       frena       0.00      0.00      0.00         4\n",
      "     detente       0.00      0.00      0.00         3\n",
      "   retrocede       0.00      0.00      0.00         3\n",
      "        gira       0.00      0.00      0.00         2\n",
      "      avanza       0.00      0.00      0.00         2\n",
      "     derecha       0.33      0.50      0.40         4\n",
      "\n",
      "   micro avg       0.10      0.10      0.10        30\n",
      "   macro avg       0.06      0.08      0.07        30\n",
      "weighted avg       0.07      0.10      0.08        30\n",
      "\n"
     ]
    }
   ],
   "source": [
    "\n",
    "from sklearn.metrics import classification_report, confusion_matrix, roc_curve, roc_auc_score\n",
    "\n",
    "Y_pred = net.predict_generator(val_generator, validation_steps)\n",
    "y_pred = np.argmax(Y_pred, axis=1)\n",
    "print('Confusion Matrix')\n",
    "print(confusion_matrix(val_generator.data, y_pred))\n",
    "print('Classification Report')\n",
    "target_names = ['Cats', 'Dogs', 'Horse']\n",
    "print(classification_report(val_generator.data, y_pred, target_names=[\"arranca\", \"acelera\", \"pita\", \"izquierda\",\n",
    "                                                                      \"frena\", \"detente\", \"retrocede\", \"gira\", \"avanza\", \"derecha\"]))"
   ]
  }
 ],
 "metadata": {
  "kernelspec": {
   "display_name": "pi2",
   "language": "python",
   "name": "pi2"
  },
  "language_info": {
   "codemirror_mode": {
    "name": "ipython",
    "version": 3
   },
   "file_extension": ".py",
   "mimetype": "text/x-python",
   "name": "python",
   "nbconvert_exporter": "python",
   "pygments_lexer": "ipython3",
   "version": "3.7.3"
  }
 },
 "nbformat": 4,
 "nbformat_minor": 2
}
