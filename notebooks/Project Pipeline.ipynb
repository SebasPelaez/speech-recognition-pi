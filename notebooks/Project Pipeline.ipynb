{
 "cells": [
  {
   "cell_type": "code",
   "execution_count": 50,
   "metadata": {},
   "outputs": [
    {
     "name": "stdout",
     "output_type": "stream",
     "text": [
      "The autoreload extension is already loaded. To reload it, use:\n",
      "  %reload_ext autoreload\n"
     ]
    }
   ],
   "source": [
    "from sklearn.metrics import classification_report, confusion_matrix, roc_curve, roc_auc_score\n",
    "\n",
    "import numpy as np\n",
    "import tensorflow as tf\n",
    "\n",
    "import keras\n",
    "import os\n",
    "import sys\n",
    "\n",
    "sys.path.append('..')\n",
    "import data\n",
    "import model\n",
    "import preprocessing\n",
    "import utils\n",
    "\n",
    "%load_ext autoreload\n",
    "%autoreload 2"
   ]
  },
  {
   "cell_type": "code",
   "execution_count": 51,
   "metadata": {},
   "outputs": [],
   "source": [
    "params = utils.yaml_to_dict(os.path.join('..','config.yml'))\n",
    "params['data_dir'] = os.path.join('..',params['data_dir'])\n",
    "params['model_dir'] = os.path.join('..','experiments-weights','Experimento1-Configuracion12')\n",
    "params['batch_size'] = 8\n",
    "params['num_epochs'] = 30\n",
    "params['learning_rate'] = 1"
   ]
  },
  {
   "cell_type": "markdown",
   "metadata": {},
   "source": [
    "## Primer paso: preprocesar los datos \n",
    "Hacerlo solo una vez"
   ]
  },
  {
   "cell_type": "code",
   "execution_count": 52,
   "metadata": {},
   "outputs": [],
   "source": [
    "#preprocessing.download_data(params)\n",
    "#preprocessing.extract_data(params)\n",
    "#preprocessing.generate_spectogram_images(params)\n",
    "#preprocessing.make_id_label_map(params)\n",
    "preprocessing.split_data(params)"
   ]
  },
  {
   "cell_type": "markdown",
   "metadata": {},
   "source": [
    "## Segund Paso: instanciar el modelo"
   ]
  },
  {
   "cell_type": "code",
   "execution_count": 53,
   "metadata": {},
   "outputs": [
    {
     "name": "stdout",
     "output_type": "stream",
     "text": [
      "_________________________________________________________________\n",
      "Layer (type)                 Output Shape              Param #   \n",
      "=================================================================\n",
      "conv2d_4 (Conv2D)            (None, 55, 240, 3)        444       \n",
      "_________________________________________________________________\n",
      "batch_normalization_8 (Batch (None, 55, 240, 3)        12        \n",
      "_________________________________________________________________\n",
      "activation_12 (Activation)   (None, 55, 240, 3)        0         \n",
      "_________________________________________________________________\n",
      "global_average_pooling2d_4 ( (None, 3)                 0         \n",
      "_________________________________________________________________\n",
      "dense_8 (Dense)              (None, 128)               512       \n",
      "_________________________________________________________________\n",
      "batch_normalization_9 (Batch (None, 128)               512       \n",
      "_________________________________________________________________\n",
      "activation_13 (Activation)   (None, 128)               0         \n",
      "_________________________________________________________________\n",
      "dense_9 (Dense)              (None, 10)                1290      \n",
      "_________________________________________________________________\n",
      "activation_14 (Activation)   (None, 10)                0         \n",
      "=================================================================\n",
      "Total params: 2,770\n",
      "Trainable params: 2,508\n",
      "Non-trainable params: 262\n",
      "_________________________________________________________________\n"
     ]
    }
   ],
   "source": [
    "inputs = tf.keras.layers.Input(shape=(110,480, 3))\n",
    "net = model.ModelArchitecture(num_classes=params['num_classes'])\n",
    "x = net(inputs, training=False)\n",
    "net.summary()"
   ]
  },
  {
   "cell_type": "markdown",
   "metadata": {},
   "source": [
    "## Tercer paso: crear el generador"
   ]
  },
  {
   "cell_type": "code",
   "execution_count": 54,
   "metadata": {},
   "outputs": [
    {
     "name": "stdout",
     "output_type": "stream",
     "text": [
      "Data in train\n",
      "Found 2960 images.\n",
      "Data in validation\n",
      "Found 30 images.\n"
     ]
    }
   ],
   "source": [
    "print('Data in train')\n",
    "train_generator = data.make_datagenerator(params, mode='training')\n",
    "print('Data in validation')\n",
    "val_generator = data.make_datagenerator(params,mode='validation')"
   ]
  },
  {
   "cell_type": "markdown",
   "metadata": {},
   "source": [
    "## Cuarto paso: correr el modelo"
   ]
  },
  {
   "cell_type": "code",
   "execution_count": 55,
   "metadata": {},
   "outputs": [],
   "source": [
    "if not os.path.exists(params['model_dir']):\n",
    "    os.makedirs(params['model_dir'])"
   ]
  },
  {
   "cell_type": "code",
   "execution_count": 56,
   "metadata": {},
   "outputs": [
    {
     "name": "stdout",
     "output_type": "stream",
     "text": [
      "Epoch 1/30\n",
      "370/370 [==============================] - 23s 63ms/step - loss: 14.3109 - sparse_categorical_accuracy: 0.1095 - val_loss: 13.4317 - val_sparse_categorical_accuracy: 0.1667\n",
      "Epoch 2/30\n",
      "370/370 [==============================] - 22s 59ms/step - loss: 14.3375 - sparse_categorical_accuracy: 0.1105 - val_loss: 13.4317 - val_sparse_categorical_accuracy: 0.1667\n",
      "Epoch 3/30\n",
      "370/370 [==============================] - 22s 60ms/step - loss: 14.3375 - sparse_categorical_accuracy: 0.1105 - val_loss: 13.4317 - val_sparse_categorical_accuracy: 0.1667\n",
      "Epoch 4/30\n",
      "370/370 [==============================] - 21s 58ms/step - loss: 14.3375 - sparse_categorical_accuracy: 0.1105 - val_loss: 13.4317 - val_sparse_categorical_accuracy: 0.1667\n",
      "Epoch 5/30\n",
      "369/370 [============================>.] - ETA: 0s - loss: 14.3327 - sparse_categorical_accuracy: 0.1108\n",
      "Epoch 00005: saving model to ..\\experiments-weights\\Experimento1-Configuracion12\\tf_ckpt\n",
      "WARNING:tensorflow:This model was compiled with a Keras optimizer (<tensorflow.python.keras.optimizers.Adam object at 0x000001ABFF078320>) but is being saved in TensorFlow format with `save_weights`. The model's weights will be saved, but unlike with TensorFlow optimizers in the TensorFlow format the optimizer's state will not be saved.\n",
      "\n",
      "Consider using a TensorFlow optimizer from `tf.train`.\n",
      "370/370 [==============================] - 23s 64ms/step - loss: 14.3375 - sparse_categorical_accuracy: 0.1105 - val_loss: 13.4317 - val_sparse_categorical_accuracy: 0.1667\n",
      "Epoch 6/30\n",
      "  1/370 [..............................] - ETA: 49s - loss: 16.1181 - sparse_categorical_accuracy: 0.0000e+00WARNING:tensorflow:Method on_batch_end() is slow compared to the batch update (0.123839). Check your callbacks.\n",
      "  2/370 [..............................] - ETA: 50s - loss: 15.1107 - sparse_categorical_accuracy: 0.0625    WARNING:tensorflow:Method on_batch_end() is slow compared to the batch update (0.119613). Check your callbacks.\n",
      "  3/370 [..............................] - ETA: 40s - loss: 14.7749 - sparse_categorical_accuracy: 0.0833WARNING:tensorflow:Method on_batch_end() is slow compared to the batch update (0.115386). Check your callbacks.\n",
      "370/370 [==============================] - 23s 62ms/step - loss: 14.3375 - sparse_categorical_accuracy: 0.1105 - val_loss: 13.4317 - val_sparse_categorical_accuracy: 0.1667\n",
      "Epoch 7/30\n",
      "370/370 [==============================] - 22s 61ms/step - loss: 14.3375 - sparse_categorical_accuracy: 0.1105 - val_loss: 13.4317 - val_sparse_categorical_accuracy: 0.1667\n",
      "Epoch 8/30\n",
      "370/370 [==============================] - 22s 60ms/step - loss: 14.3375 - sparse_categorical_accuracy: 0.1105 - val_loss: 13.4317 - val_sparse_categorical_accuracy: 0.1667\n",
      "Epoch 9/30\n",
      "370/370 [==============================] - 22s 61ms/step - loss: 14.3375 - sparse_categorical_accuracy: 0.1105 - val_loss: 13.4317 - val_sparse_categorical_accuracy: 0.1667\n",
      "Epoch 10/30\n",
      "369/370 [============================>.] - ETA: 0s - loss: 14.3381 - sparse_categorical_accuracy: 0.1104\n",
      "Epoch 00010: saving model to ..\\experiments-weights\\Experimento1-Configuracion12\\tf_ckpt\n",
      "WARNING:tensorflow:This model was compiled with a Keras optimizer (<tensorflow.python.keras.optimizers.Adam object at 0x000001ABFF078320>) but is being saved in TensorFlow format with `save_weights`. The model's weights will be saved, but unlike with TensorFlow optimizers in the TensorFlow format the optimizer's state will not be saved.\n",
      "\n",
      "Consider using a TensorFlow optimizer from `tf.train`.\n",
      "370/370 [==============================] - 25s 68ms/step - loss: 14.3375 - sparse_categorical_accuracy: 0.1105 - val_loss: 13.4317 - val_sparse_categorical_accuracy: 0.1667\n",
      "Epoch 11/30\n",
      " 89/370 [======>.......................] - ETA: 19s - loss: 14.4429 - sparse_categorical_accuracy: 0.1039WARNING:tensorflow:Method on_batch_end() is slow compared to the batch update (0.105178). Check your callbacks.\n",
      " 90/370 [======>.......................] - ETA: 20s - loss: 14.4615 - sparse_categorical_accuracy: 0.1028WARNING:tensorflow:Method on_batch_end() is slow compared to the batch update (0.109970). Check your callbacks.\n",
      " 91/370 [======>.......................] - ETA: 20s - loss: 14.4576 - sparse_categorical_accuracy: 0.1030WARNING:tensorflow:Method on_batch_end() is slow compared to the batch update (0.109970). Check your callbacks.\n",
      " 92/370 [======>.......................] - ETA: 20s - loss: 14.4537 - sparse_categorical_accuracy: 0.1033WARNING:tensorflow:Method on_batch_end() is slow compared to the batch update (0.109970). Check your callbacks.\n",
      " 93/370 [======>.......................] - ETA: 20s - loss: 14.4283 - sparse_categorical_accuracy: 0.1048WARNING:tensorflow:Method on_batch_end() is slow compared to the batch update (0.109117). Check your callbacks.\n",
      "294/370 [======================>.......] - ETA: 6s - loss: 14.3432 - sparse_categorical_accuracy: 0.1101WARNING:tensorflow:Method on_batch_end() is slow compared to the batch update (0.110746). Check your callbacks.\n",
      "295/370 [======================>.......] - ETA: 6s - loss: 14.3492 - sparse_categorical_accuracy: 0.1097WARNING:tensorflow:Method on_batch_end() is slow compared to the batch update (0.110746). Check your callbacks.\n",
      "370/370 [==============================] - 30s 82ms/step - loss: 14.3375 - sparse_categorical_accuracy: 0.1105 - val_loss: 13.4317 - val_sparse_categorical_accuracy: 0.1667\n",
      "Epoch 12/30\n",
      "126/370 [=========>....................] - ETA: 19s - loss: 14.5191 - sparse_categorical_accuracy: 0.0992WARNING:tensorflow:Method on_batch_end() is slow compared to the batch update (0.118191). Check your callbacks.\n",
      "127/370 [=========>....................] - ETA: 19s - loss: 14.5158 - sparse_categorical_accuracy: 0.0994WARNING:tensorflow:Method on_batch_end() is slow compared to the batch update (0.118191). Check your callbacks.\n",
      "370/370 [==============================] - 30s 80ms/step - loss: 14.3375 - sparse_categorical_accuracy: 0.1105 - val_loss: 13.4317 - val_sparse_categorical_accuracy: 0.1667\n",
      "Epoch 13/30\n",
      "370/370 [==============================] - 28s 76ms/step - loss: 14.3375 - sparse_categorical_accuracy: 0.1105 - val_loss: 13.4317 - val_sparse_categorical_accuracy: 0.1667\n",
      "Epoch 14/30\n",
      "370/370 [==============================] - 28s 75ms/step - loss: 14.3375 - sparse_categorical_accuracy: 0.1105 - val_loss: 13.4317 - val_sparse_categorical_accuracy: 0.1667\n",
      "Epoch 15/30\n",
      "369/370 [============================>.] - ETA: 0s - loss: 14.3327 - sparse_categorical_accuracy: 0.1108\n",
      "Epoch 00015: saving model to ..\\experiments-weights\\Experimento1-Configuracion12\\tf_ckpt\n",
      "WARNING:tensorflow:This model was compiled with a Keras optimizer (<tensorflow.python.keras.optimizers.Adam object at 0x000001ABFF078320>) but is being saved in TensorFlow format with `save_weights`. The model's weights will be saved, but unlike with TensorFlow optimizers in the TensorFlow format the optimizer's state will not be saved.\n",
      "\n",
      "Consider using a TensorFlow optimizer from `tf.train`.\n",
      "370/370 [==============================] - 29s 78ms/step - loss: 14.3375 - sparse_categorical_accuracy: 0.1105 - val_loss: 13.4317 - val_sparse_categorical_accuracy: 0.1667\n",
      "Epoch 16/30\n",
      "370/370 [==============================] - 27s 73ms/step - loss: 14.3375 - sparse_categorical_accuracy: 0.1105 - val_loss: 13.4317 - val_sparse_categorical_accuracy: 0.1667\n",
      "Epoch 17/30\n",
      "370/370 [==============================] - 28s 77ms/step - loss: 14.3375 - sparse_categorical_accuracy: 0.1105 - val_loss: 13.4317 - val_sparse_categorical_accuracy: 0.1667\n",
      "Epoch 18/30\n",
      "370/370 [==============================] - 29s 77ms/step - loss: 14.3375 - sparse_categorical_accuracy: 0.1105 - val_loss: 13.4317 - val_sparse_categorical_accuracy: 0.1667\n",
      "Epoch 19/30\n",
      "370/370 [==============================] - 28s 76ms/step - loss: 14.3375 - sparse_categorical_accuracy: 0.1105 - val_loss: 13.4317 - val_sparse_categorical_accuracy: 0.1667\n",
      "Epoch 20/30\n",
      "369/370 [============================>.] - ETA: 0s - loss: 14.3381 - sparse_categorical_accuracy: 0.1104\n",
      "Epoch 00020: saving model to ..\\experiments-weights\\Experimento1-Configuracion12\\tf_ckpt\n",
      "WARNING:tensorflow:This model was compiled with a Keras optimizer (<tensorflow.python.keras.optimizers.Adam object at 0x000001ABFF078320>) but is being saved in TensorFlow format with `save_weights`. The model's weights will be saved, but unlike with TensorFlow optimizers in the TensorFlow format the optimizer's state will not be saved.\n",
      "\n",
      "Consider using a TensorFlow optimizer from `tf.train`.\n"
     ]
    },
    {
     "name": "stdout",
     "output_type": "stream",
     "text": [
      "370/370 [==============================] - 28s 75ms/step - loss: 14.3375 - sparse_categorical_accuracy: 0.1105 - val_loss: 13.4317 - val_sparse_categorical_accuracy: 0.1667\n",
      "Epoch 21/30\n",
      "370/370 [==============================] - 26s 70ms/step - loss: 14.3375 - sparse_categorical_accuracy: 0.1105 - val_loss: 13.4317 - val_sparse_categorical_accuracy: 0.1667\n",
      "Epoch 22/30\n",
      "370/370 [==============================] - 26s 72ms/step - loss: 14.3375 - sparse_categorical_accuracy: 0.1105 - val_loss: 13.4317 - val_sparse_categorical_accuracy: 0.1667\n",
      "Epoch 23/30\n",
      "370/370 [==============================] - 26s 71ms/step - loss: 14.3375 - sparse_categorical_accuracy: 0.1105 - val_loss: 13.4317 - val_sparse_categorical_accuracy: 0.1667\n",
      "Epoch 24/30\n",
      "370/370 [==============================] - 27s 74ms/step - loss: 14.3375 - sparse_categorical_accuracy: 0.1105 - val_loss: 13.4317 - val_sparse_categorical_accuracy: 0.1667\n",
      "Epoch 25/30\n",
      "369/370 [============================>.] - ETA: 0s - loss: 14.3381 - sparse_categorical_accuracy: 0.1104\n",
      "Epoch 00025: saving model to ..\\experiments-weights\\Experimento1-Configuracion12\\tf_ckpt\n",
      "WARNING:tensorflow:This model was compiled with a Keras optimizer (<tensorflow.python.keras.optimizers.Adam object at 0x000001ABFF078320>) but is being saved in TensorFlow format with `save_weights`. The model's weights will be saved, but unlike with TensorFlow optimizers in the TensorFlow format the optimizer's state will not be saved.\n",
      "\n",
      "Consider using a TensorFlow optimizer from `tf.train`.\n",
      "370/370 [==============================] - 27s 73ms/step - loss: 14.3375 - sparse_categorical_accuracy: 0.1105 - val_loss: 13.4317 - val_sparse_categorical_accuracy: 0.1667\n",
      "Epoch 26/30\n",
      "370/370 [==============================] - 23s 61ms/step - loss: 14.3375 - sparse_categorical_accuracy: 0.1105 - val_loss: 13.4317 - val_sparse_categorical_accuracy: 0.1667\n",
      "Epoch 27/30\n",
      "370/370 [==============================] - 18s 48ms/step - loss: 14.3375 - sparse_categorical_accuracy: 0.1105 - val_loss: 13.4317 - val_sparse_categorical_accuracy: 0.1667\n",
      "Epoch 28/30\n",
      "370/370 [==============================] - 21s 58ms/step - loss: 14.3375 - sparse_categorical_accuracy: 0.1105 - val_loss: 13.4317 - val_sparse_categorical_accuracy: 0.1667\n",
      "Epoch 29/30\n",
      "370/370 [==============================] - 21s 57ms/step - loss: 14.3375 - sparse_categorical_accuracy: 0.1105 - val_loss: 13.4317 - val_sparse_categorical_accuracy: 0.1667\n",
      "Epoch 30/30\n",
      "369/370 [============================>.] - ETA: 0s - loss: 14.3327 - sparse_categorical_accuracy: 0.1108\n",
      "Epoch 00030: saving model to ..\\experiments-weights\\Experimento1-Configuracion12\\tf_ckpt\n",
      "WARNING:tensorflow:This model was compiled with a Keras optimizer (<tensorflow.python.keras.optimizers.Adam object at 0x000001ABFF078320>) but is being saved in TensorFlow format with `save_weights`. The model's weights will be saved, but unlike with TensorFlow optimizers in the TensorFlow format the optimizer's state will not be saved.\n",
      "\n",
      "Consider using a TensorFlow optimizer from `tf.train`.\n",
      "370/370 [==============================] - 24s 65ms/step - loss: 14.3375 - sparse_categorical_accuracy: 0.1105 - val_loss: 13.4317 - val_sparse_categorical_accuracy: 0.1667\n"
     ]
    },
    {
     "data": {
      "text/plain": [
       "<tensorflow.python.keras.callbacks.History at 0x1ac0091e470>"
      ]
     },
     "execution_count": 56,
     "metadata": {},
     "output_type": "execute_result"
    }
   ],
   "source": [
    "cp_callback = tf.keras.callbacks.ModelCheckpoint(\n",
    "    os.path.join(params['model_dir'], 'tf_ckpt'), \n",
    "    save_weights_only=True, \n",
    "    verbose=1,\n",
    "    period=5)\n",
    "\n",
    "tb_callback = tf.keras.callbacks.TensorBoard(\n",
    "    os.path.join(params['model_dir'], 'logs'))\n",
    "\n",
    "optimizer = tf.keras.optimizers.Adam(params['learning_rate'])\n",
    "\n",
    "steps_per_epoch = train_generator.n // params['batch_size']\n",
    "validation_steps = val_generator.n // params['batch_size']\n",
    "\n",
    "net.compile(optimizer=optimizer, loss=params['loss'], metrics=['sparse_categorical_accuracy'])\n",
    "net.fit_generator(\n",
    "    train_generator, \n",
    "    steps_per_epoch=steps_per_epoch, \n",
    "    epochs=params['num_epochs'],\n",
    "    workers=4,\n",
    "    validation_data=val_generator, \n",
    "    validation_steps=validation_steps,\n",
    "    callbacks=[cp_callback,tb_callback])"
   ]
  },
  {
   "cell_type": "code",
   "execution_count": 57,
   "metadata": {},
   "outputs": [],
   "source": [
    "#fpr, tpr, thresholds = roc_curve(y, probs)"
   ]
  },
  {
   "cell_type": "code",
   "execution_count": 58,
   "metadata": {},
   "outputs": [],
   "source": [
    "# Quintero paso: evaluar el modelo"
   ]
  },
  {
   "cell_type": "code",
   "execution_count": 59,
   "metadata": {},
   "outputs": [
    {
     "name": "stdout",
     "output_type": "stream",
     "text": [
      "Found 30 images.\n"
     ]
    }
   ],
   "source": [
    "params['batch_size'] = val_generator.n\n",
    "params['shuffle'] = False\n",
    "val_generator = data.make_datagenerator(params,mode='validation')"
   ]
  },
  {
   "cell_type": "code",
   "execution_count": 60,
   "metadata": {},
   "outputs": [],
   "source": [
    "Y_pred = net.predict_generator(val_generator, steps=1)\n",
    "y_pred = np.argmax(Y_pred, axis=1)"
   ]
  },
  {
   "cell_type": "code",
   "execution_count": 61,
   "metadata": {},
   "outputs": [
    {
     "name": "stdout",
     "output_type": "stream",
     "text": [
      "Confusion Matrix\n",
      "[[0 2 0 0 0 0 0 0 0 0]\n",
      " [0 4 0 0 0 0 0 0 0 0]\n",
      " [0 4 0 0 0 0 0 0 0 0]\n",
      " [0 4 0 0 0 0 0 0 0 0]\n",
      " [0 3 0 0 0 0 0 0 0 0]\n",
      " [0 3 0 0 0 0 0 0 0 0]\n",
      " [0 3 0 0 0 0 0 0 0 0]\n",
      " [0 2 0 0 0 0 0 0 0 0]\n",
      " [0 3 0 0 0 0 0 0 0 0]\n",
      " [0 2 0 0 0 0 0 0 0 0]]\n",
      "              precision    recall  f1-score   support\n",
      "\n",
      "     arranca       0.00      0.00      0.00         2\n",
      "     acelera       0.13      1.00      0.24         4\n",
      "        pita       0.00      0.00      0.00         4\n",
      "   izquierda       0.00      0.00      0.00         4\n",
      "       frena       0.00      0.00      0.00         3\n",
      "     detente       0.00      0.00      0.00         3\n",
      "   retrocede       0.00      0.00      0.00         3\n",
      "        gira       0.00      0.00      0.00         2\n",
      "      avanza       0.00      0.00      0.00         3\n",
      "     derecha       0.00      0.00      0.00         2\n",
      "\n",
      "   micro avg       0.13      0.13      0.13        30\n",
      "   macro avg       0.01      0.10      0.02        30\n",
      "weighted avg       0.02      0.13      0.03        30\n",
      "\n"
     ]
    }
   ],
   "source": [
    "print('Confusion Matrix')\n",
    "print(confusion_matrix(val_generator.data, y_pred))\n",
    "target_names = [\"arranca\", \"acelera\", \"pita\", \"izquierda\",\"frena\", \"detente\", \"retrocede\", \"gira\", \"avanza\", \"derecha\"]\n",
    "print(classification_report(val_generator.data, y_pred, target_names=target_names))"
   ]
  },
  {
   "cell_type": "code",
   "execution_count": null,
   "metadata": {},
   "outputs": [],
   "source": []
  }
 ],
 "metadata": {
  "kernelspec": {
   "display_name": "Python 3",
   "language": "python",
   "name": "python3"
  },
  "language_info": {
   "codemirror_mode": {
    "name": "ipython",
    "version": 3
   },
   "file_extension": ".py",
   "mimetype": "text/x-python",
   "name": "python",
   "nbconvert_exporter": "python",
   "pygments_lexer": "ipython3",
   "version": "3.6.8"
  }
 },
 "nbformat": 4,
 "nbformat_minor": 2
}
