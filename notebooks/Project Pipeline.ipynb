{
 "cells": [
  {
   "cell_type": "code",
   "execution_count": 1,
   "metadata": {},
   "outputs": [
    {
     "name": "stderr",
     "output_type": "stream",
     "text": [
      "Using TensorFlow backend.\n",
      "C:\\Users\\PC\\Anaconda3\\envs\\TensorFlow-GPU-Keras\\lib\\site-packages\\pydub\\utils.py:165: RuntimeWarning: Couldn't find ffmpeg or avconv - defaulting to ffmpeg, but may not work\n",
      "  warn(\"Couldn't find ffmpeg or avconv - defaulting to ffmpeg, but may not work\", RuntimeWarning)\n"
     ]
    }
   ],
   "source": [
    "from sklearn.metrics import classification_report, confusion_matrix, roc_curve, roc_auc_score\n",
    "\n",
    "import numpy as np\n",
    "import tensorflow as tf\n",
    "\n",
    "import keras\n",
    "import os\n",
    "import sys\n",
    "\n",
    "sys.path.append('..')\n",
    "import data\n",
    "import model\n",
    "import preprocessing\n",
    "import utils\n",
    "\n",
    "%load_ext autoreload\n",
    "%autoreload 2"
   ]
  },
  {
   "cell_type": "code",
   "execution_count": 2,
   "metadata": {},
   "outputs": [],
   "source": [
    "params = utils.yaml_to_dict(os.path.join('..','config.yml'))\n",
    "params['data_dir'] = os.path.join('..',params['data_dir'])\n",
    "params['model_dir'] = os.path.join('..',params['model_dir'])"
   ]
  },
  {
   "cell_type": "markdown",
   "metadata": {},
   "source": [
    "## Primer paso: preprocesar los datos \n",
    "Hacerlo solo una vez"
   ]
  },
  {
   "cell_type": "code",
   "execution_count": 12,
   "metadata": {},
   "outputs": [],
   "source": [
    "#preprocessing.download_data(params)\n",
    "#preprocessing.extract_data(params)\n",
    "#preprocessing.generate_spectogram_images(params)\n",
    "preprocessing.make_id_label_map(params)\n",
    "preprocessing.split_data(params)"
   ]
  },
  {
   "cell_type": "markdown",
   "metadata": {},
   "source": [
    "## Segund Paso: instanciar el modelo"
   ]
  },
  {
   "cell_type": "code",
   "execution_count": 3,
   "metadata": {},
   "outputs": [
    {
     "name": "stdout",
     "output_type": "stream",
     "text": [
      "_________________________________________________________________\n",
      "Layer (type)                 Output Shape              Param #   \n",
      "=================================================================\n",
      "conv2d (Conv2D)              (None, 55, 240, 32)       4736      \n",
      "_________________________________________________________________\n",
      "batch_normalization (BatchNo (None, 55, 240, 32)       128       \n",
      "_________________________________________________________________\n",
      "activation (Activation)      (None, 55, 240, 32)       0         \n",
      "_________________________________________________________________\n",
      "average_pooling2d (AveragePo (None, 19, 80, 32)        0         \n",
      "_________________________________________________________________\n",
      "flatten (Flatten)            (None, 48640)             0         \n",
      "_________________________________________________________________\n",
      "dense (Dense)                (None, 128)               6226048   \n",
      "_________________________________________________________________\n",
      "batch_normalization_1 (Batch (None, 128)               512       \n",
      "_________________________________________________________________\n",
      "activation_1 (Activation)    (None, 128)               0         \n",
      "_________________________________________________________________\n",
      "dense_1 (Dense)              (None, 10)                1290      \n",
      "_________________________________________________________________\n",
      "activation_2 (Activation)    (None, 10)                0         \n",
      "=================================================================\n",
      "Total params: 6,232,714\n",
      "Trainable params: 6,232,394\n",
      "Non-trainable params: 320\n",
      "_________________________________________________________________\n"
     ]
    }
   ],
   "source": [
    "inputs = tf.keras.layers.Input(shape=(110,480, 3))\n",
    "net = model.ModelArchitecture(num_classes=params['num_classes'])\n",
    "x = net(inputs, training=False)\n",
    "net.summary()"
   ]
  },
  {
   "cell_type": "markdown",
   "metadata": {},
   "source": [
    "## Tercer paso: crear el generador"
   ]
  },
  {
   "cell_type": "code",
   "execution_count": 4,
   "metadata": {},
   "outputs": [
    {
     "name": "stdout",
     "output_type": "stream",
     "text": [
      "Data in train\n",
      "Found 4632 images.\n",
      "Data in validation\n",
      "Found 46 images.\n"
     ]
    }
   ],
   "source": [
    "print('Data in train')\n",
    "train_generator = data.make_datagenerator(params, mode='training')\n",
    "print('Data in validation')\n",
    "val_generator = data.make_datagenerator(params,mode='validation')"
   ]
  },
  {
   "cell_type": "markdown",
   "metadata": {},
   "source": [
    "## Cuarto paso: correr el modelo"
   ]
  },
  {
   "cell_type": "code",
   "execution_count": 5,
   "metadata": {},
   "outputs": [
    {
     "name": "stdout",
     "output_type": "stream",
     "text": [
      "Epoch 1/10\n",
      "289/289 [==============================] - 27s 93ms/step - loss: 0.4222 - sparse_categorical_accuracy: 0.8659 - val_loss: 0.0308 - val_sparse_categorical_accuracy: 1.0000s - loss: 0.4735 - sparse_categorical_accur - ETA: 3s - loss: 0.4624 \n",
      "Epoch 2/10\n",
      "109/289 [==========>...................] - ETA: 15s - loss: 0.0793 - sparse_categorical_accuracy: 0.9765WARNING:tensorflow:Method on_batch_end() is slow compared to the batch update (0.117058). Check your callbacks.\n",
      "110/289 [==========>...................] - ETA: 15s - loss: 0.0787 - sparse_categorical_accuracy: 0.9767WARNING:tensorflow:Method on_batch_end() is slow compared to the batch update (0.117058). Check your callbacks.\n",
      "111/289 [==========>...................] - ETA: 15s - loss: 0.0789 - sparse_categorical_accuracy: 0.9764WARNING:tensorflow:Method on_batch_end() is slow compared to the batch update (0.117058). Check your callbacks.\n",
      "112/289 [==========>...................] - ETA: 15s - loss: 0.0802 - sparse_categorical_accuracy: 0.9760WARNING:tensorflow:Method on_batch_end() is slow compared to the batch update (0.117058). Check your callbacks.\n",
      "113/289 [==========>...................] - ETA: 15s - loss: 0.0800 - sparse_categorical_accuracy: 0.9762WARNING:tensorflow:Method on_batch_end() is slow compared to the batch update (0.129595). Check your callbacks.\n",
      "288/289 [============================>.] - ETA: 0s - loss: 0.0839 - sparse_categorical_accuracy: 0.974 - ETA: 0s - loss: 0.0839 - sparse_categorical_accuracy: 0.9742WARNING:tensorflow:Method on_batch_end() is slow compared to the batch update (0.138823). Check your callbacks.\n",
      "289/289 [==============================] - 27s 92ms/step - loss: 0.0836 - sparse_categorical_accuracy: 0.9743 - val_loss: 0.0122 - val_sparse_categorical_accuracy: 1.0000\n",
      "Epoch 3/10\n",
      "289/289 [==============================] - 25s 86ms/step - loss: 0.0407 - sparse_categorical_accuracy: 0.9868 - val_loss: 0.0225 - val_sparse_categorical_accuracy: 1.0000: 2s - loss: 0.0420 - spar\n",
      "Epoch 4/10\n",
      "289/289 [==============================] - 28s 97ms/step - loss: 0.0449 - sparse_categorical_accuracy: 0.9855 - val_loss: 0.0067 - val_sparse_categorical_accuracy: 1.0000\n",
      "Epoch 5/10\n",
      "288/289 [============================>.] - ETA: 0s - loss: 0.0204 - sparse_categorical_accuracy: 0.9933\n",
      "Epoch 00005: saving model to ..\\checkpoints\\tf_ckpt\n",
      "WARNING:tensorflow:This model was compiled with a Keras optimizer (<tensorflow.python.keras.optimizers.Adam object at 0x000001A99914C278>) but is being saved in TensorFlow format with `save_weights`. The model's weights will be saved, but unlike with TensorFlow optimizers in the TensorFlow format the optimizer's state will not be saved.\n",
      "\n",
      "Consider using a TensorFlow optimizer from `tf.train`.\n",
      "289/289 [==============================] - 31s 109ms/step - loss: 0.0203 - sparse_categorical_accuracy: 0.9933 - val_loss: 4.3529e-04 - val_sparse_categorical_accuracy: 1.0000\n",
      "Epoch 6/10\n",
      "289/289 [==============================] - 29s 101ms/step - loss: 0.0149 - sparse_categorical_accuracy: 0.9957 - val_loss: 0.0215 - val_sparse_categorical_accuracy: 1.0000\n",
      "Epoch 7/10\n",
      "289/289 [==============================] - 31s 108ms/step - loss: 0.0075 - sparse_categorical_accuracy: 0.9972 - val_loss: 0.0012 - val_sparse_categorical_accuracy: 1.0000\n",
      "Epoch 8/10\n",
      "289/289 [==============================] - 34s 118ms/step - loss: 8.1874e-04 - sparse_categorical_accuracy: 1.0000 - val_loss: 4.6355e-04 - val_sparse_categorical_accuracy: 1.0000\n",
      "Epoch 9/10\n",
      "289/289 [==============================] - 32s 109ms/step - loss: 3.0290e-04 - sparse_categorical_accuracy: 1.0000 - val_loss: 3.3272e-04 - val_sparse_categorical_accuracy: 1.0000\n",
      "Epoch 10/10\n",
      "288/289 [============================>.] - ETA: 0s - loss: 1.9306e-04 - sparse_categorical_accuracy: 1.0000\n",
      "Epoch 00010: saving model to ..\\checkpoints\\tf_ckpt\n",
      "WARNING:tensorflow:This model was compiled with a Keras optimizer (<tensorflow.python.keras.optimizers.Adam object at 0x000001A99914C278>) but is being saved in TensorFlow format with `save_weights`. The model's weights will be saved, but unlike with TensorFlow optimizers in the TensorFlow format the optimizer's state will not be saved.\n",
      "\n",
      "Consider using a TensorFlow optimizer from `tf.train`.\n",
      "289/289 [==============================] - 34s 117ms/step - loss: 1.9246e-04 - sparse_categorical_accuracy: 1.0000 - val_loss: 2.5101e-04 - val_sparse_categorical_accuracy: 1.0000\n"
     ]
    },
    {
     "data": {
      "text/plain": [
       "<tensorflow.python.keras.callbacks.History at 0x1a99914c828>"
      ]
     },
     "execution_count": 5,
     "metadata": {},
     "output_type": "execute_result"
    }
   ],
   "source": [
    "cp_callback = tf.keras.callbacks.ModelCheckpoint(\n",
    "    os.path.join(params['model_dir'], 'tf_ckpt'), \n",
    "    save_weights_only=True, \n",
    "    verbose=1,\n",
    "    period=5)\n",
    "\n",
    "tb_callback = tf.keras.callbacks.TensorBoard(\n",
    "    os.path.join(params['model_dir'], 'logs'))\n",
    "\n",
    "optimizer = tf.keras.optimizers.Adam(params['learning_rate'])\n",
    "\n",
    "steps_per_epoch = train_generator.n // params['batch_size']\n",
    "validation_steps = val_generator.n // params['batch_size']\n",
    "\n",
    "net.compile(optimizer=optimizer, loss=params['loss'], metrics=['sparse_categorical_accuracy'])\n",
    "net.fit_generator(\n",
    "    train_generator, \n",
    "    steps_per_epoch=steps_per_epoch, \n",
    "    epochs=params['num_epochs'],\n",
    "    workers=4,\n",
    "    validation_data=val_generator, \n",
    "    validation_steps=validation_steps,\n",
    "    callbacks=[cp_callback,tb_callback])"
   ]
  },
  {
   "cell_type": "code",
   "execution_count": 6,
   "metadata": {},
   "outputs": [
    {
     "name": "stdout",
     "output_type": "stream",
     "text": [
      "Found 46 images.\n"
     ]
    }
   ],
   "source": [
    "params['batch_size'] = val_generator.n\n",
    "params['shuffle'] = False\n",
    "val_generator = data.make_datagenerator(params,mode='validation')"
   ]
  },
  {
   "cell_type": "code",
   "execution_count": 7,
   "metadata": {},
   "outputs": [],
   "source": [
    "Y_pred = net.predict_generator(val_generator, steps=1)\n",
    "y_pred = np.argmax(Y_pred, axis=1)"
   ]
  },
  {
   "cell_type": "code",
   "execution_count": 8,
   "metadata": {},
   "outputs": [
    {
     "name": "stdout",
     "output_type": "stream",
     "text": [
      "Confusion Matrix\n",
      "[[4 0 0 0 0 0 0 0 0 0]\n",
      " [0 4 0 0 0 0 0 0 0 0]\n",
      " [0 0 5 0 0 0 0 0 0 0]\n",
      " [0 0 0 5 0 0 0 0 0 0]\n",
      " [0 0 0 0 5 0 0 0 0 0]\n",
      " [0 0 0 0 0 5 0 0 0 0]\n",
      " [0 0 0 0 0 0 5 0 0 0]\n",
      " [0 0 0 0 0 0 0 4 0 0]\n",
      " [0 0 0 0 0 0 0 0 5 0]\n",
      " [0 0 0 0 0 0 0 0 0 4]]\n",
      "              precision    recall  f1-score   support\n",
      "\n",
      "     arranca       1.00      1.00      1.00         4\n",
      "     acelera       1.00      1.00      1.00         4\n",
      "        pita       1.00      1.00      1.00         5\n",
      "   izquierda       1.00      1.00      1.00         5\n",
      "       frena       1.00      1.00      1.00         5\n",
      "     detente       1.00      1.00      1.00         5\n",
      "   retrocede       1.00      1.00      1.00         5\n",
      "        gira       1.00      1.00      1.00         4\n",
      "      avanza       1.00      1.00      1.00         5\n",
      "     derecha       1.00      1.00      1.00         4\n",
      "\n",
      "   micro avg       1.00      1.00      1.00        46\n",
      "   macro avg       1.00      1.00      1.00        46\n",
      "weighted avg       1.00      1.00      1.00        46\n",
      "\n"
     ]
    }
   ],
   "source": [
    "print('Confusion Matrix')\n",
    "print(confusion_matrix(val_generator.data, y_pred))\n",
    "target_names = [\"arranca\", \"acelera\", \"pita\", \"izquierda\",\"frena\", \"detente\", \"retrocede\", \"gira\", \"avanza\", \"derecha\"]\n",
    "print(classification_report(val_generator.data, y_pred, target_names=target_names))"
   ]
  },
  {
   "cell_type": "code",
   "execution_count": null,
   "metadata": {},
   "outputs": [],
   "source": []
  }
 ],
 "metadata": {
  "kernelspec": {
   "display_name": "Python 3",
   "language": "python",
   "name": "python3"
  },
  "language_info": {
   "codemirror_mode": {
    "name": "ipython",
    "version": 3
   },
   "file_extension": ".py",
   "mimetype": "text/x-python",
   "name": "python",
   "nbconvert_exporter": "python",
   "pygments_lexer": "ipython3",
   "version": "3.6.8"
  }
 },
 "nbformat": 4,
 "nbformat_minor": 2
}
