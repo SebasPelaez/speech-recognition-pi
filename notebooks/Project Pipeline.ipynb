{
 "cells": [
  {
   "cell_type": "code",
   "execution_count": 1,
   "metadata": {},
   "outputs": [
    {
     "name": "stderr",
     "output_type": "stream",
     "text": [
      "Using TensorFlow backend.\n",
      "C:\\Users\\PC\\Anaconda3\\envs\\TensorFlow-GPU-Keras\\lib\\site-packages\\pydub\\utils.py:165: RuntimeWarning: Couldn't find ffmpeg or avconv - defaulting to ffmpeg, but may not work\n",
      "  warn(\"Couldn't find ffmpeg or avconv - defaulting to ffmpeg, but may not work\", RuntimeWarning)\n"
     ]
    }
   ],
   "source": [
    "import numpy as np\n",
    "import pandas as pd\n",
    "import tensorflow as tf\n",
    "\n",
    "import keras\n",
    "import os\n",
    "import sys\n",
    "\n",
    "sys.path.append('..')\n",
    "import data\n",
    "import model\n",
    "import preprocessing\n",
    "import utils\n",
    "\n",
    "%load_ext autoreload\n",
    "%autoreload 2"
   ]
  },
  {
   "cell_type": "code",
   "execution_count": 2,
   "metadata": {},
   "outputs": [],
   "source": [
    "params = utils.yaml_to_dict(os.path.join('..','config.yml'))\n",
    "params['data_dir'] = os.path.join('..',params['data_dir'])\n",
    "params['model_dir'] = os.path.join('..',params['model_dir'])"
   ]
  },
  {
   "cell_type": "markdown",
   "metadata": {},
   "source": [
    "## Primer paso: preprocesar los datos \n",
    "Hacerlo solo una vez"
   ]
  },
  {
   "cell_type": "code",
   "execution_count": 9,
   "metadata": {},
   "outputs": [
    {
     "name": "stdout",
     "output_type": "stream",
     "text": [
      "Window size is bigger than record segment: specgram_matrix_S-acelera11_segment24.png\n",
      "Window size is bigger than record segment: specgram_matrix_S-acelera4_segment0.png\n",
      "Window size is bigger than record segment: specgram_matrix_S-acelera5_segment11.png\n",
      "Window size is bigger than record segment: specgram_matrix_S-acelera6_segment15.png\n",
      "Window size is bigger than record segment: specgram_matrix_S-acelera7_segment16.png\n",
      "Window size is bigger than record segment: specgram_matrix_S-acelera8_segment0.png\n",
      "Window size is bigger than record segment: specgram_matrix_S-acelera8_segment1.png\n",
      "Window size is bigger than record segment: specgram_matrix_S-arranca8_segment0.png\n",
      "Window size is bigger than record segment: specgram_matrix_S-avanza2_segment0.png\n",
      "Window size is bigger than record segment: specgram_matrix_S-avanza9_segment22.png\n",
      "Window size is bigger than record segment: specgram_matrix_S-frena10_segment24.png\n",
      "Window size is bigger than record segment: specgram_matrix_S-frena5_segment28.png\n",
      "Window size is bigger than record segment: specgram_matrix_S-izquierda7_segment6.png\n",
      "Window size is bigger than record segment: specgram_matrix_S-izquierda9_segment25.png\n",
      "Window size is bigger than record segment: specgram_matrix_S-retrocede11_segment6.png\n",
      "Window size is bigger than record segment: specgram_matrix_S-retrocede11_segment14.png\n",
      "Window size is bigger than record segment: specgram_matrix_S-retrocede11_segment16.png\n",
      "Window size is bigger than record segment: specgram_matrix_S-retrocede11_segment26.png\n",
      "Window size is bigger than record segment: specgram_matrix_S-retrocede4_segment0.png\n",
      "Window size is bigger than record segment: specgram_matrix_S-retrocede5_segment0.png\n",
      "Window size is bigger than record segment: specgram_matrix_S-retrocede8_segment0.png\n",
      "Window size is bigger than record segment: specgram_matrix_S-retrocede8_segment2.png\n",
      "Window size is bigger than record segment: specgram_matrix_S-retrocede8_segment3.png\n",
      "Window size is bigger than record segment: specgram_matrix_S-retrocede8_segment5.png\n",
      "Window size is bigger than record segment: specgram_matrix_S-retrocede8_segment6.png\n",
      "Window size is bigger than record segment: specgram_matrix_S-retrocede8_segment11.png\n",
      "Window size is bigger than record segment: specgram_matrix_S-retrocede8_segment13.png\n",
      "Window size is bigger than record segment: specgram_matrix_S-retrocede8_segment14.png\n",
      "Window size is bigger than record segment: specgram_matrix_S-retrocede8_segment15.png\n",
      "Window size is bigger than record segment: specgram_matrix_S-retrocede8_segment17.png\n",
      "Window size is bigger than record segment: specgram_matrix_S-retrocede8_segment21.png\n",
      "Window size is bigger than record segment: specgram_matrix_S-retrocede8_segment23.png\n"
     ]
    }
   ],
   "source": [
    "#preprocessing.download_data(params)\n",
    "#preprocessing.extract_data(params)\n",
    "preprocessing.generate_spectogram_images(params)\n",
    "preprocessing.make_id_label_map(params)\n",
    "preprocessing.split_data(params)"
   ]
  },
  {
   "cell_type": "markdown",
   "metadata": {},
   "source": [
    "## Segund Paso: instanciar el modelo"
   ]
  },
  {
   "cell_type": "code",
   "execution_count": 8,
   "metadata": {},
   "outputs": [
    {
     "name": "stdout",
     "output_type": "stream",
     "text": [
      "_________________________________________________________________\n",
      "Layer (type)                 Output Shape              Param #   \n",
      "=================================================================\n",
      "conv2d_3 (Conv2D)            (None, 55, 240, 64)       9472      \n",
      "_________________________________________________________________\n",
      "batch_normalization_4 (Batch (None, 55, 240, 64)       256       \n",
      "_________________________________________________________________\n",
      "activation_5 (Activation)    (None, 55, 240, 64)       0         \n",
      "_________________________________________________________________\n",
      "max_pooling2d_1 (MaxPooling2 (None, 11, 48, 64)        0         \n",
      "_________________________________________________________________\n",
      "flatten_1 (Flatten)          (None, 33792)             0         \n",
      "_________________________________________________________________\n",
      "dense_2 (Dense)              (None, 128)               4325504   \n",
      "_________________________________________________________________\n",
      "batch_normalization_5 (Batch (None, 128)               512       \n",
      "_________________________________________________________________\n",
      "activation_6 (Activation)    (None, 128)               0         \n",
      "_________________________________________________________________\n",
      "dense_3 (Dense)              (None, 10)                1290      \n",
      "_________________________________________________________________\n",
      "activation_7 (Activation)    (None, 10)                0         \n",
      "=================================================================\n",
      "Total params: 4,337,034\n",
      "Trainable params: 4,336,650\n",
      "Non-trainable params: 384\n",
      "_________________________________________________________________\n"
     ]
    }
   ],
   "source": [
    "inputs = tf.keras.layers.Input(shape=(110,480, 3))\n",
    "net = model.ModelArchitecture(num_classes=params['num_classes'])\n",
    "x = net(inputs, training=False)\n",
    "net.summary()"
   ]
  },
  {
   "cell_type": "markdown",
   "metadata": {},
   "source": [
    "## Tercer paso: crear el generador"
   ]
  },
  {
   "cell_type": "code",
   "execution_count": 4,
   "metadata": {},
   "outputs": [
    {
     "name": "stdout",
     "output_type": "stream",
     "text": [
      "Data in train\n",
      "Found 2960 images.\n",
      "Data in validation\n",
      "Found 30 images.\n"
     ]
    }
   ],
   "source": [
    "print('Data in train')\n",
    "train_generator = data.make_datagenerator(params, mode='training')\n",
    "print('Data in validation')\n",
    "val_generator = data.make_datagenerator(params,mode='validation')"
   ]
  },
  {
   "cell_type": "markdown",
   "metadata": {},
   "source": [
    "## Cuarto paso: correr el modelo"
   ]
  },
  {
   "cell_type": "code",
   "execution_count": 5,
   "metadata": {},
   "outputs": [
    {
     "name": "stdout",
     "output_type": "stream",
     "text": [
      "Epoch 1/25\n",
      "296/296 [==============================] - 20s 66ms/step - loss: 0.5068 - sparse_categorical_accuracy: 0.8247 - val_loss: 0.2439 - val_sparse_categorical_accuracy: 0.9667oss: 0.5638 - sparse_categ - ETA: 1s - loss: 0.5341 - sparse_cate\n",
      "Epoch 2/25\n",
      "296/296 [==============================] - 18s 61ms/step - loss: 0.1164 - sparse_categorical_accuracy: 0.9652 - val_loss: 0.1839 - val_sparse_categorical_accuracy: 0.9000\n",
      "Epoch 3/25\n",
      "296/296 [==============================] - 18s 61ms/step - loss: 0.0848 - sparse_categorical_accuracy: 0.9666 - val_loss: 0.1344 - val_sparse_categorical_accuracy: 0.9667\n",
      "Epoch 4/25\n",
      "296/296 [==============================] - 18s 62ms/step - loss: 0.0393 - sparse_categorical_accuracy: 0.9889 - val_loss: 0.2825 - val_sparse_categorical_accuracy: 0.8667\n",
      "Epoch 5/25\n",
      "294/296 [============================>.] - ETA: 0s - loss: 0.0415 - sparse_categorical_accuracy: 0.9874- ETA: 7s - loss: 0.0401 - sparse_categoric - ETA: 2s - loss: 0.0398 - sparse_categorical_accu - ETA: 1s - loss: 0.0394 - sparse_categorical_\n",
      "Epoch 00005: saving model to ..\\checkpoints\\tf_ckpt\n",
      "WARNING:tensorflow:This model was compiled with a Keras optimizer (<tensorflow.python.keras.optimizers.Adam object at 0x00000271019AC320>) but is being saved in TensorFlow format with `save_weights`. The model's weights will be saved, but unlike with TensorFlow optimizers in the TensorFlow format the optimizer's state will not be saved.\n",
      "\n",
      "Consider using a TensorFlow optimizer from `tf.train`.\n",
      "296/296 [==============================] - 19s 64ms/step - loss: 0.0413 - sparse_categorical_accuracy: 0.9875 - val_loss: 0.1470 - val_sparse_categorical_accuracy: 0.9667\n",
      "Epoch 6/25\n",
      "296/296 [==============================] - 18s 62ms/step - loss: 0.0387 - sparse_categorical_accuracy: 0.9895 - val_loss: 0.1863 - val_sparse_categorical_accuracy: 0.9333\n",
      "Epoch 7/25\n",
      "296/296 [==============================] - 19s 63ms/step - loss: 0.0161 - sparse_categorical_accuracy: 0.9946 - val_loss: 0.2803 - val_sparse_categorical_accuracy: 0.9667\n",
      "Epoch 8/25\n",
      "296/296 [==============================] - 18s 59ms/step - loss: 0.0546 - sparse_categorical_accuracy: 0.9838 - val_loss: 0.1027 - val_sparse_categorical_accuracy: 0.9667\n",
      "Epoch 9/25\n",
      "296/296 [==============================] - ETA: 0s - loss: 0.0081 - sparse_categorical_accuracy: 0.9983- ETA: - 19s 64ms/step - loss: 0.0080 - sparse_categorical_accuracy: 0.9983 - val_loss: 0.1658 - val_sparse_categorical_accuracy: 0.9667\n",
      "Epoch 10/25\n",
      "295/296 [============================>.] - ETA: 0s - loss: 0.0279 - sparse_categorical_accuracy: 0.9922- ETA: 0s - loss: 0.0284 - sparse_categorical_accuracy:\n",
      "Epoch 00010: saving model to ..\\checkpoints\\tf_ckpt\n",
      "WARNING:tensorflow:This model was compiled with a Keras optimizer (<tensorflow.python.keras.optimizers.Adam object at 0x00000271019AC320>) but is being saved in TensorFlow format with `save_weights`. The model's weights will be saved, but unlike with TensorFlow optimizers in the TensorFlow format the optimizer's state will not be saved.\n",
      "\n",
      "Consider using a TensorFlow optimizer from `tf.train`.\n",
      "296/296 [==============================] - 19s 64ms/step - loss: 0.0278 - sparse_categorical_accuracy: 0.9922 - val_loss: 0.0845 - val_sparse_categorical_accuracy: 0.9667\n",
      "Epoch 11/25\n",
      "296/296 [==============================] - 19s 64ms/step - loss: 0.0116 - sparse_categorical_accuracy: 0.9959 - val_loss: 0.1902 - val_sparse_categorical_accuracy: 0.9667\n",
      "Epoch 12/25\n",
      "296/296 [==============================] - 19s 65ms/step - loss: 0.0011 - sparse_categorical_accuracy: 1.0000 - val_loss: 0.1967 - val_sparse_categorical_accuracy: 0.9667\n",
      "Epoch 13/25\n",
      "296/296 [==============================] - 18s 62ms/step - loss: 3.6418e-04 - sparse_categorical_accuracy: 1.0000 - val_loss: 0.1876 - val_sparse_categorical_accuracy: 0.9667\n",
      "Epoch 14/25\n",
      "296/296 [==============================] - 19s 64ms/step - loss: 2.2123e-04 - sparse_categorical_accuracy: 1.0000 - val_loss: 0.1868 - val_sparse_categorical_accuracy: 0.9667\n",
      "Epoch 15/25\n",
      "295/296 [============================>.] - ETA: 0s - loss: 1.8562e-04 - sparse_categorical_accuracy: 1.0000- ETA: 6s - loss: 2.0434e-04 - ETA: 4s - loss: 1.9514e-04 - sparse_categorical_accurac \n",
      "Epoch 00015: saving model to ..\\checkpoints\\tf_ckpt\n",
      "WARNING:tensorflow:This model was compiled with a Keras optimizer (<tensorflow.python.keras.optimizers.Adam object at 0x00000271019AC320>) but is being saved in TensorFlow format with `save_weights`. The model's weights will be saved, but unlike with TensorFlow optimizers in the TensorFlow format the optimizer's state will not be saved.\n",
      "\n",
      "Consider using a TensorFlow optimizer from `tf.train`.\n",
      "296/296 [==============================] - 18s 62ms/step - loss: 1.8500e-04 - sparse_categorical_accuracy: 1.0000 - val_loss: 0.1916 - val_sparse_categorical_accuracy: 0.9667\n",
      "Epoch 16/25\n",
      "296/296 [==============================] - 19s 63ms/step - loss: 1.5015e-04 - sparse_categorical_accuracy: 1.0000 - val_loss: 0.2061 - val_sparse_categorical_accuracy: 0.9667al_accura \n",
      "Epoch 17/25\n",
      "296/296 [==============================] - 19s 63ms/step - loss: 1.2278e-04 - sparse_categorical_accuracy: 1.0000 - val_loss: 0.2106 - val_sparse_categorical_accuracy: 0.9667\n",
      "Epoch 18/25\n",
      "296/296 [==============================] - 18s 62ms/step - loss: 1.0711e-04 - sparse_categorical_accuracy: 1.0000 - val_loss: 0.2069 - val_sparse_categorical_accuracy: 0.9667\n",
      "Epoch 19/25\n",
      "296/296 [==============================] - 19s 65ms/step - loss: 9.1934e-05 - sparse_categorical_accuracy: 1.0000 - val_loss: 0.2170 - val_sparse_categorical_accuracy: 0.9667\n",
      "Epoch 20/25\n",
      "295/296 [============================>.] - ETA: 0s - loss: 7.1705e-05 - sparse_categorical_accuracy: 1.0000  ETA: 10s - loss: 5.9680e-05 - sparse_categor\n",
      "Epoch 00020: saving model to ..\\checkpoints\\tf_ckpt\n",
      "WARNING:tensorflow:This model was compiled with a Keras optimizer (<tensorflow.python.keras.optimizers.Adam object at 0x00000271019AC320>) but is being saved in TensorFlow format with `save_weights`. The model's weights will be saved, but unlike with TensorFlow optimizers in the TensorFlow format the optimizer's state will not be saved.\n",
      "\n",
      "Consider using a TensorFlow optimizer from `tf.train`.\n",
      "296/296 [==============================] - 19s 64ms/step - loss: 7.1581e-05 - sparse_categorical_accuracy: 1.0000 - val_loss: 0.2028 - val_sparse_categorical_accuracy: 0.9667\n",
      "Epoch 21/25\n",
      "296/296 [==============================] - 19s 64ms/step - loss: 5.8690e-05 - sparse_categorical_accuracy: 1.0000 - val_loss: 0.2228 - val_sparse_categorical_accuracy: 0.9667\n",
      "Epoch 22/25\n",
      "296/296 [==============================] - 18s 61ms/step - loss: 5.2294e-05 - sparse_categorical_accuracy: 1.0000 - val_loss: 0.2132 - val_sparse_categorical_accuracy: 0.9667\n",
      "Epoch 23/25\n",
      "296/296 [==============================] - 18s 59ms/step - loss: 4.4572e-05 - sparse_categorical_accuracy: 1.0000 - val_loss: 0.2139 - val_sparse_categorical_accuracy: 0.9667\n",
      "Epoch 24/25\n",
      "296/296 [==============================] - 18s 61ms/step - loss: 3.6445e-05 - sparse_categorical_accuracy: 1.0000 - val_loss: 0.2382 - val_sparse_categorical_accuracy: 0.9667\n",
      "Epoch 25/25\n",
      "295/296 [============================>.] - ETA: 0s - loss: 3.1843e-05 - sparse_categorical_accuracy: 1.0000- ETA: 5s - lo - ETA: 1s - loss: 3.0532e-05 - sparse_c\n",
      "Epoch 00025: saving model to ..\\checkpoints\\tf_ckpt\n",
      "WARNING:tensorflow:This model was compiled with a Keras optimizer (<tensorflow.python.keras.optimizers.Adam object at 0x00000271019AC320>) but is being saved in TensorFlow format with `save_weights`. The model's weights will be saved, but unlike with TensorFlow optimizers in the TensorFlow format the optimizer's state will not be saved.\n",
      "\n",
      "Consider using a TensorFlow optimizer from `tf.train`.\n",
      "296/296 [==============================] - 20s 66ms/step - loss: 3.2720e-05 - sparse_categorical_accuracy: 1.0000 - val_loss: 0.2358 - val_sparse_categorical_accuracy: 0.9667\n"
     ]
    },
    {
     "data": {
      "text/plain": [
       "<tensorflow.python.keras.callbacks.History at 0x271019ac4a8>"
      ]
     },
     "execution_count": 5,
     "metadata": {},
     "output_type": "execute_result"
    }
   ],
   "source": [
    "cp_callback = tf.keras.callbacks.ModelCheckpoint(\n",
    "    os.path.join(params['model_dir'], 'tf_ckpt'), \n",
    "    save_weights_only=True, \n",
    "    verbose=1,\n",
    "    period=5)\n",
    "\n",
    "tb_callback = tf.keras.callbacks.TensorBoard(\n",
    "    os.path.join(params['model_dir'], 'logs'))\n",
    "\n",
    "optimizer = tf.keras.optimizers.Adam(lr=0.001)\n",
    "\n",
    "steps_per_epoch = train_generator.n // params['batch_size']\n",
    "validation_steps = val_generator.n // params['batch_size']\n",
    "\n",
    "net.compile(optimizer=optimizer, loss='sparse_categorical_crossentropy', metrics=['sparse_categorical_accuracy'])\n",
    "net.fit_generator(\n",
    "    train_generator, \n",
    "    steps_per_epoch=steps_per_epoch, \n",
    "    epochs=params['num_epochs'],\n",
    "    workers=4,\n",
    "    validation_data=val_generator, \n",
    "    validation_steps=validation_steps,\n",
    "    callbacks=[cp_callback,tb_callback])"
   ]
  },
  {
   "cell_type": "code",
   "execution_count": null,
   "metadata": {},
   "outputs": [],
   "source": []
  }
 ],
 "metadata": {
  "kernelspec": {
   "display_name": "Python 3",
   "language": "python",
   "name": "python3"
  },
  "language_info": {
   "codemirror_mode": {
    "name": "ipython",
    "version": 3
   },
   "file_extension": ".py",
   "mimetype": "text/x-python",
   "name": "python",
   "nbconvert_exporter": "python",
   "pygments_lexer": "ipython3",
   "version": "3.6.8"
  }
 },
 "nbformat": 4,
 "nbformat_minor": 2
}
