{
 "cells": [
  {
   "cell_type": "code",
   "execution_count": 1,
   "metadata": {},
   "outputs": [
    {
     "name": "stderr",
     "output_type": "stream",
     "text": [
      "Using TensorFlow backend.\n",
      "C:\\Users\\PC\\Anaconda3\\envs\\TensorFlow-GPU-Keras\\lib\\site-packages\\pydub\\utils.py:165: RuntimeWarning: Couldn't find ffmpeg or avconv - defaulting to ffmpeg, but may not work\n",
      "  warn(\"Couldn't find ffmpeg or avconv - defaulting to ffmpeg, but may not work\", RuntimeWarning)\n"
     ]
    }
   ],
   "source": [
    "from sklearn.metrics import classification_report, confusion_matrix, roc_curve, roc_auc_score\n",
    "\n",
    "import numpy as np\n",
    "import tensorflow as tf\n",
    "\n",
    "import keras\n",
    "import os\n",
    "import sys\n",
    "\n",
    "sys.path.append('..')\n",
    "import data\n",
    "import model\n",
    "import preprocessing\n",
    "import utils\n",
    "\n",
    "%load_ext autoreload\n",
    "%autoreload 2"
   ]
  },
  {
   "cell_type": "code",
   "execution_count": 2,
   "metadata": {},
   "outputs": [],
   "source": [
    "params = utils.yaml_to_dict(os.path.join('..','config.yml'))\n",
    "params['data_dir'] = os.path.join('..',params['data_dir'])\n",
    "params['model_dir'] = os.path.join('..',params['model_dir'])"
   ]
  },
  {
   "cell_type": "markdown",
   "metadata": {},
   "source": [
    "## Primer paso: preprocesar los datos \n",
    "Hacerlo solo una vez"
   ]
  },
  {
   "cell_type": "code",
   "execution_count": 12,
   "metadata": {},
   "outputs": [],
   "source": [
    "preprocessing.download_data(params)\n",
    "preprocessing.extract_data(params)\n",
    "preprocessing.generate_spectogram_images(params)\n",
    "preprocessing.make_id_label_map(params)\n",
    "preprocessing.split_data(params)"
   ]
  },
  {
   "cell_type": "markdown",
   "metadata": {},
   "source": [
    "## Segund Paso: instanciar el modelo"
   ]
  },
  {
   "cell_type": "code",
   "execution_count": 8,
   "metadata": {},
   "outputs": [
    {
     "name": "stdout",
     "output_type": "stream",
     "text": [
      "_________________________________________________________________\n",
      "Layer (type)                 Output Shape              Param #   \n",
      "=================================================================\n",
      "conv2d_5 (Conv2D)            (None, 55, 240, 64)       9472      \n",
      "_________________________________________________________________\n",
      "batch_normalization_10 (Batc (None, 55, 240, 64)       256       \n",
      "_________________________________________________________________\n",
      "activation_15 (Activation)   (None, 55, 240, 64)       0         \n",
      "_________________________________________________________________\n",
      "average_pooling2d_5 (Average (None, 11, 48, 64)        0         \n",
      "_________________________________________________________________\n",
      "flatten_5 (Flatten)          (None, 33792)             0         \n",
      "_________________________________________________________________\n",
      "dense_10 (Dense)             (None, 128)               4325504   \n",
      "_________________________________________________________________\n",
      "batch_normalization_11 (Batc (None, 128)               512       \n",
      "_________________________________________________________________\n",
      "activation_16 (Activation)   (None, 128)               0         \n",
      "_________________________________________________________________\n",
      "dense_11 (Dense)             (None, 10)                1290      \n",
      "_________________________________________________________________\n",
      "activation_17 (Activation)   (None, 10)                0         \n",
      "=================================================================\n",
      "Total params: 4,337,034\n",
      "Trainable params: 4,336,650\n",
      "Non-trainable params: 384\n",
      "_________________________________________________________________\n"
     ]
    }
   ],
   "source": [
    "inputs = tf.keras.layers.Input(shape=(110,480, 3))\n",
    "net = model.ModelArchitecture(num_classes=params['num_classes'])\n",
    "x = net(inputs, training=False)\n",
    "net.summary()"
   ]
  },
  {
   "cell_type": "markdown",
   "metadata": {},
   "source": [
    "## Tercer paso: crear el generador"
   ]
  },
  {
   "cell_type": "code",
   "execution_count": 9,
   "metadata": {},
   "outputs": [
    {
     "name": "stdout",
     "output_type": "stream",
     "text": [
      "Data in train\n",
      "Found 4632 images.\n",
      "Data in validation\n",
      "Found 46 images.\n"
     ]
    }
   ],
   "source": [
    "print('Data in train')\n",
    "train_generator = data.make_datagenerator(params, mode='training')\n",
    "print('data.ipynba in validation')\n",
    "val_generator = data.make_datagenerator(params,mode='validation')"
   ]
  },
  {
   "cell_type": "markdown",
   "metadata": {},
   "source": [
    "## Cuarto paso: correr el modelo"
   ]
  },
  {
   "cell_type": "code",
   "execution_count": 10,
   "metadata": {},
   "outputs": [
    {
     "name": "stdout",
     "output_type": "stream",
     "text": [
      "Epoch 1/10\n",
      "289/289 [==============================] - 59s 203ms/step - loss: 0.5122 - sparse_categorical_accuracy: 0.8322 - val_loss: 0.0580 - val_sparse_categorical_accuracy: 1.0000\n",
      "Epoch 2/10\n",
      "289/289 [==============================] - 22s 76ms/step - loss: 0.1186 - sparse_categorical_accuracy: 0.9619 - val_loss: 0.1150 - val_sparse_categorical_accuracy: 0.9375\n",
      "Epoch 3/10\n",
      "109/289 [==========>...................] - ETA: 17s - loss: 0.0543 - sparse_categorical_accuracy: 0.9857WARNING:tensorflow:Method on_batch_end() is slow compared to the batch update (0.115416). Check your callbacks.\n",
      "110/289 [==========>...................] - ETA: 17s - loss: 0.0540 - sparse_categorical_accuracy: 0.9858WARNING:tensorflow:Method on_batch_end() is slow compared to the batch update (0.120904). Check your callbacks.\n",
      "111/289 [==========>...................] - ETA: 17s - loss: 0.0535 - sparse_categorical_accuracy: 0.9859WARNING:tensorflow:Method on_batch_end() is slow compared to the batch update (0.125789). Check your callbacks.\n",
      "112/289 [==========>...................] - ETA: 17s - loss: 0.0531 - sparse_categorical_accuracy: 0.9860WARNING:tensorflow:Method on_batch_end() is slow compared to the batch update (0.125789). Check your callbacks.\n",
      "113/289 [==========>...................] - ETA: 17s - loss: 0.0528 - sparse_categorical_accuracy: 0.9862WARNING:tensorflow:Method on_batch_end() is slow compared to the batch update (0.125789). Check your callbacks.\n",
      "114/289 [==========>...................] - ETA: 16s - loss: 0.0525 - sparse_categorical_accuracy: 0.9863WARNING:tensorflow:Method on_batch_end() is slow compared to the batch update (0.120904). Check your callbacks.\n",
      "115/289 [==========>...................] - ETA: 16s - loss: 0.0523 - sparse_categorical_accuracy: 0.9864WARNING:tensorflow:Method on_batch_end() is slow compared to the batch update (0.120904). Check your callbacks.\n",
      "211/289 [====================>.........] - ETA: 7s - loss: 0.0508 - sparse_categorical_accuracy: 0.9840WARNING:tensorflow:Method on_batch_end() is slow compared to the batch update (0.123137). Check your callbacks.\n",
      "212/289 [=====================>........] - ETA: 7s - loss: 0.0507 - sparse_categorical_accuracy: 0.9841WARNING:tensorflow:Method on_batch_end() is slow compared to the batch update (0.237764). Check your callbacks.\n",
      "213/289 [=====================>........] - ETA: 7s - loss: 0.0505 - sparse_categorical_accuracy: 0.9842WARNING:tensorflow:Method on_batch_end() is slow compared to the batch update (0.237764). Check your callbacks.\n",
      "214/289 [=====================>........] - ETA: 7s - loss: 0.0503 - sparse_categorical_accuracy: 0.9842WARNING:tensorflow:Method on_batch_end() is slow compared to the batch update (0.237764). Check your callbacks.\n",
      "215/289 [=====================>........] - ETA: 7s - loss: 0.0503 - sparse_categorical_accuracy: 0.9843WARNING:tensorflow:Method on_batch_end() is slow compared to the batch update (0.237764). Check your callbacks.\n",
      "216/289 [=====================>........] - ETA: 7s - loss: 0.0502 - sparse_categorical_accuracy: 0.9844WARNING:tensorflow:Method on_batch_end() is slow compared to the batch update (0.237764). Check your callbacks.\n",
      "217/289 [=====================>........] - ETA: 7s - loss: 0.0502 - sparse_categorical_accuracy: 0.9844WARNING:tensorflow:Method on_batch_end() is slow compared to the batch update (0.199211). Check your callbacks.\n",
      "218/289 [=====================>........] - ETA: 7s - loss: 0.0500 - sparse_categorical_accuracy: 0.9845WARNING:tensorflow:Method on_batch_end() is slow compared to the batch update (0.174554). Check your callbacks.\n",
      "219/289 [=====================>........] - ETA: 7s - loss: 0.0504 - sparse_categorical_accuracy: 0.9843WARNING:tensorflow:Method on_batch_end() is slow compared to the batch update (0.164870). Check your callbacks.\n",
      "220/289 [=====================>........] - ETA: 6s - loss: 0.0504 - sparse_categorical_accuracy: 0.9844WARNING:tensorflow:Method on_batch_end() is slow compared to the batch update (0.142838). Check your callbacks.\n",
      "221/289 [=====================>........] - ETA: 6s - loss: 0.0505 - sparse_categorical_accuracy: 0.9842WARNING:tensorflow:Method on_batch_end() is slow compared to the batch update (0.127610). Check your callbacks.\n",
      "222/289 [======================>.......] - ETA: 6s - loss: 0.0512 - sparse_categorical_accuracy: 0.9840WARNING:tensorflow:Method on_batch_end() is slow compared to the batch update (0.122855). Check your callbacks.\n",
      "223/289 [======================>.......] - ETA: 6s - loss: 0.0511 - sparse_categorical_accuracy: 0.9840WARNING:tensorflow:Method on_batch_end() is slow compared to the batch update (0.119350). Check your callbacks.\n",
      "224/289 [======================>.......] - ETA: 6s - loss: 0.0511 - sparse_categorical_accuracy: 0.9838WARNING:tensorflow:Method on_batch_end() is slow compared to the batch update (0.119350). Check your callbacks.\n",
      "225/289 [======================>.......] - ETA: 6s - loss: 0.0509 - sparse_categorical_accuracy: 0.9839WARNING:tensorflow:Method on_batch_end() is slow compared to the batch update (0.115338). Check your callbacks.\n",
      "226/289 [======================>.......] - ETA: 6s - loss: 0.0507 - sparse_categorical_accuracy: 0.9840WARNING:tensorflow:Method on_batch_end() is slow compared to the batch update (0.116487). Check your callbacks.\n",
      "289/289 [==============================] - 27s 95ms/step - loss: 0.0528 - sparse_categorical_accuracy: 0.9829 - val_loss: 0.0924 - val_sparse_categorical_accuracy: 0.9688\n",
      "Epoch 4/10\n",
      "  2/289 [..............................] - ETA: 56s - loss: 0.0423 - sparse_categorical_accuracy: 0.9688WARNING:tensorflow:Method on_batch_end() is slow compared to the batch update (0.157495). Check your callbacks.\n",
      "116/289 [===========>..................] - ETA: 13s - loss: 0.0251 - sparse_categorical_accuracy: 0.9941WARNING:tensorflow:Method on_batch_end() is slow compared to the batch update (0.101379). Check your callbacks.\n",
      "117/289 [===========>..................] - ETA: 13s - loss: 0.0255 - sparse_categorical_accuracy: 0.9936WARNING:tensorflow:Method on_batch_end() is slow compared to the batch update (0.129015). Check your callbacks.\n",
      "118/289 [===========>..................] - ETA: 13s - loss: 0.0254 - sparse_categorical_accuracy: 0.9936WARNING:tensorflow:Method on_batch_end() is slow compared to the batch update (0.129015). Check your callbacks.\n",
      "119/289 [===========>..................] - ETA: 13s - loss: 0.0252 - sparse_categorical_accuracy: 0.9937WARNING:tensorflow:Method on_batch_end() is slow compared to the batch update (0.129015). Check your callbacks.\n",
      "120/289 [===========>..................] - ETA: 13s - loss: 0.0260 - sparse_categorical_accuracy: 0.9938WARNING:tensorflow:Method on_batch_end() is slow compared to the batch update (0.129015). Check your callbacks.\n",
      "121/289 [===========>..................] - ETA: 13s - loss: 0.0261 - sparse_categorical_accuracy: 0.9938WARNING:tensorflow:Method on_batch_end() is slow compared to the batch update (0.129015). Check your callbacks.\n",
      "289/289 [==============================] - 21s 74ms/step - loss: 0.0358 - sparse_categorical_accuracy: 0.9890 - val_loss: 0.0172 - val_sparse_categorical_accuracy: 1.0000\n",
      "Epoch 5/10\n",
      "288/289 [============================>.] - ETA: 0s - loss: 0.0278 - sparse_categorical_accuracy: 0.9905\n",
      "Epoch 00005: saving model to ..\\checkpoints\\tf_ckpt\n",
      "WARNING:tensorflow:This model was compiled with a Keras optimizer (<tensorflow.python.keras.optimizers.Adam object at 0x000001C38D26DE48>) but is being saved in TensorFlow format with `save_weights`. The model's weights will be saved, but unlike with TensorFlow optimizers in the TensorFlow format the optimizer's state will not be saved.\n",
      "\n",
      "Consider using a TensorFlow optimizer from `tf.train`.\n",
      "289/289 [==============================] - 22s 75ms/step - loss: 0.0277 - sparse_categorical_accuracy: 0.9905 - val_loss: 0.0306 - val_sparse_categorical_accuracy: 1.0000\n",
      "Epoch 6/10\n",
      "289/289 [==============================] - 23s 79ms/step - loss: 0.0320 - sparse_categorical_accuracy: 0.9890 - val_loss: 0.0035 - val_sparse_categorical_accuracy: 1.0000\n",
      "Epoch 7/10\n",
      "289/289 [==============================] - 22s 77ms/step - loss: 0.0176 - sparse_categorical_accuracy: 0.9931 - val_loss: 0.0016 - val_sparse_categorical_accuracy: 1.0000\n",
      "Epoch 8/10\n",
      "289/289 [==============================] - 23s 81ms/step - loss: 0.0057 - sparse_categorical_accuracy: 0.9985 - val_loss: 0.0193 - val_sparse_categorical_accuracy: 1.0000\n",
      "Epoch 9/10\n",
      "  1/289 [..............................] - ETA: 54s - loss: 3.2633e-04 - sparse_categorical_accuracy: 1.0000WARNING:tensorflow:Method on_batch_end() is slow compared to the batch update (0.152911). Check your callbacks.\n",
      "  2/289 [..............................] - ETA: 53s - loss: 0.0128 - sparse_categorical_accuracy: 1.0000    WARNING:tensorflow:Method on_batch_end() is slow compared to the batch update (0.142444). Check your callbacks.\n",
      "  3/289 [..............................] - ETA: 53s - loss: 0.0091 - sparse_categorical_accuracy: 1.0000WARNING:tensorflow:Method on_batch_end() is slow compared to the batch update (0.146736). Check your callbacks.\n",
      "  4/289 [..............................] - ETA: 53s - loss: 0.0277 - sparse_categorical_accuracy: 0.9844WARNING:tensorflow:Method on_batch_end() is slow compared to the batch update (0.141064). Check your callbacks.\n",
      "  5/289 [..............................] - ETA: 52s - loss: 0.0222 - sparse_categorical_accuracy: 0.9875WARNING:tensorflow:Method on_batch_end() is slow compared to the batch update (0.135392). Check your callbacks.\n",
      "  6/289 [..............................] - ETA: 51s - loss: 0.0202 - sparse_categorical_accuracy: 0.9896WARNING:tensorflow:Method on_batch_end() is slow compared to the batch update (0.135095). Check your callbacks.\n",
      "  7/289 [..............................] - ETA: 47s - loss: 0.0173 - sparse_categorical_accuracy: 0.9911WARNING:tensorflow:Method on_batch_end() is slow compared to the batch update (0.134798). Check your callbacks.\n",
      "  8/289 [..............................] - ETA: 43s - loss: 0.0199 - sparse_categorical_accuracy: 0.9922WARNING:tensorflow:Method on_batch_end() is slow compared to the batch update (0.133388). Check your callbacks.\n",
      "  9/289 [..............................] - ETA: 43s - loss: 0.0182 - sparse_categorical_accuracy: 0.9931WARNING:tensorflow:Method on_batch_end() is slow compared to the batch update (0.131978). Check your callbacks.\n",
      " 10/289 [>.............................] - ETA: 41s - loss: 0.0177 - sparse_categorical_accuracy: 0.9938WARNING:tensorflow:Method on_batch_end() is slow compared to the batch update (0.128255). Check your callbacks.\n",
      "289/289 [==============================] - 26s 90ms/step - loss: 0.0185 - sparse_categorical_accuracy: 0.9931 - val_loss: 0.2051 - val_sparse_categorical_accuracy: 0.9688\n",
      "Epoch 10/10\n",
      "288/289 [============================>.] - ETA: 0s - loss: 0.0256 - sparse_categorical_accuracy: 0.9909\n",
      "Epoch 00010: saving model to ..\\checkpoints\\tf_ckpt\n",
      "WARNING:tensorflow:This model was compiled with a Keras optimizer (<tensorflow.python.keras.optimizers.Adam object at 0x000001C38D26DE48>) but is being saved in TensorFlow format with `save_weights`. The model's weights will be saved, but unlike with TensorFlow optimizers in the TensorFlow format the optimizer's state will not be saved.\n",
      "\n",
      "Consider using a TensorFlow optimizer from `tf.train`.\n",
      "289/289 [==============================] - 26s 90ms/step - loss: 0.0255 - sparse_categorical_accuracy: 0.9909 - val_loss: 9.7380e-04 - val_sparse_categorical_accuracy: 1.0000\n"
     ]
    },
    {
     "data": {
      "text/plain": [
       "<tensorflow.python.keras.callbacks.History at 0x1c38d2a3a20>"
      ]
     },
     "execution_count": 10,
     "metadata": {},
     "output_type": "execute_result"
    }
   ],
   "source": [
    "cp_callback = tf.keras.callbacks.ModelCheckpoint(\n",
    "    os.path.join(params['model_dir'], 'tf_ckpt'), \n",
    "    save_weights_only=True, \n",
    "    verbose=1,\n",
    "    period=5)\n",
    "\n",
    "tb_callback = tf.keras.callbacks.TensorBoard(\n",
    "    os.path.join(params['model_dir'], 'logs'))\n",
    "\n",
    "optimizer = tf.keras.optimizers.Adam(params['learning_rate'])\n",
    "\n",
    "steps_per_epoch = train_generator.n // params['batch_size']\n",
    "validation_steps = val_generator.n // params['batch_size']\n",
    "\n",
    "net.compile(optimizer=optimizer, loss=params['loss'], metrics=['sparse_categorical_accuracy'])\n",
    "net.fit_generator(\n",
    "    train_generator, \n",
    "    steps_per_epoch=steps_per_epoch, \n",
    "    epochs=params['num_epochs'],\n",
    "    workers=4,\n",
    "    validation_data=val_generator, \n",
    "    validation_steps=validation_steps,\n",
    "    callbacks=[cp_callback,tb_callback])"
   ]
  },
  {
   "cell_type": "markdown",
   "metadata": {},
   "source": [
    "## Quinto paso: Evaluar el modelo"
   ]
  },
  {
   "cell_type": "code",
   "execution_count": 11,
   "metadata": {},
   "outputs": [
    {
     "name": "stdout",
     "output_type": "stream",
     "text": [
      "Found 46 images.\n"
     ]
    }
   ],
   "source": [
    "val_generator = data.make_datagenerator(params,mode='validation')\n",
    "\n",
    "params['batch_size'] = val_generator.n\n",
    "params['shuffle'] = False"
   ]
  },
  {
   "cell_type": "code",
   "execution_count": 12,
   "metadata": {},
   "outputs": [],
   "source": [
    "Y_pred = net.predict_generator(val_generator, steps=1)\n",
    "y_pred = np.argmax(Y_pred, axis=1)"
   ]
  },
  {
   "cell_type": "code",
   "execution_count": 13,
   "metadata": {},
   "outputs": [
    {
     "name": "stdout",
     "output_type": "stream",
     "text": [
      "Confusion Matrix\n",
      "[[4 0 0 0 0 0 0 0 0 0]\n",
      " [0 4 0 0 0 0 0 0 0 0]\n",
      " [0 0 5 0 0 0 0 0 0 0]\n",
      " [0 0 0 5 0 0 0 0 0 0]\n",
      " [0 0 0 0 5 0 0 0 0 0]\n",
      " [0 0 0 0 0 5 0 0 0 0]\n",
      " [0 0 0 0 0 0 5 0 0 0]\n",
      " [0 0 0 0 0 0 0 4 0 0]\n",
      " [0 0 0 0 0 0 0 0 5 0]\n",
      " [0 0 0 0 0 0 0 0 0 4]]\n",
      "              precision    recall  f1-score   support\n",
      "\n",
      "     arranca       1.00      1.00      1.00         4\n",
      "     acelera       1.00      1.00      1.00         4\n",
      "        pita       1.00      1.00      1.00         5\n",
      "   izquierda       1.00      1.00      1.00         5\n",
      "       frena       1.00      1.00      1.00         5\n",
      "     detente       1.00      1.00      1.00         5\n",
      "   retrocede       1.00      1.00      1.00         5\n",
      "        gira       1.00      1.00      1.00         4\n",
      "      avanza       1.00      1.00      1.00         5\n",
      "     derecha       1.00      1.00      1.00         4\n",
      "\n",
      "   micro avg       1.00      1.00      1.00        46\n",
      "   macro avg       1.00      1.00      1.00        46\n",
      "weighted avg       1.00      1.00      1.00        46\n",
      "\n"
     ]
    }
   ],
   "source": [
    "print('Confusion Matrix')\n",
    "print(confusion_matrix(val_generator.data, y_pred))\n",
    "target_names = [\"arranca\", \"acelera\", \"pita\", \"izquierda\",\"frena\", \"detente\", \"retrocede\", \"gira\", \"avanza\", \"derecha\"]\n",
    "print(classification_report(val_generator.data, y_pred, target_names=target_names))"
   ]
  }
 ],
 "metadata": {
  "kernelspec": {
   "display_name": "Python 3",
   "language": "python",
   "name": "python3"
  },
  "language_info": {
   "codemirror_mode": {
    "name": "ipython",
    "version": 3
   },
   "file_extension": ".py",
   "mimetype": "text/x-python",
   "name": "python",
   "nbconvert_exporter": "python",
   "pygments_lexer": "ipython3",
   "version": "3.6.8"
  }
 },
 "nbformat": 4,
 "nbformat_minor": 2
}
