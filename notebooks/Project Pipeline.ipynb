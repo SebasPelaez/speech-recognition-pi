{
 "cells": [
  {
   "cell_type": "code",
   "execution_count": 36,
   "metadata": {},
   "outputs": [
    {
     "name": "stdout",
     "output_type": "stream",
     "text": [
      "The autoreload extension is already loaded. To reload it, use:\n",
      "  %reload_ext autoreload\n"
     ]
    }
   ],
   "source": [
    "from sklearn.metrics import classification_report, confusion_matrix, roc_curve, roc_auc_score\n",
    "\n",
    "import numpy as np\n",
    "import tensorflow as tf\n",
    "\n",
    "import keras\n",
    "import os\n",
    "import sys\n",
    "\n",
    "sys.path.append('..')\n",
    "import data\n",
    "import model\n",
    "import preprocessing\n",
    "import utils\n",
    "\n",
    "%load_ext autoreload\n",
    "%autoreload 2"
   ]
  },
  {
   "cell_type": "code",
   "execution_count": 29,
   "metadata": {},
   "outputs": [],
   "source": [
    "params = utils.yaml_to_dict(os.path.join('..','config.yml'))\n",
    "params['data_dir'] = os.path.join('..',params['data_dir'])\n",
    "params['model_dir'] = os.path.join('..',params['model_dir'])"
   ]
  },
  {
   "cell_type": "markdown",
   "metadata": {},
   "source": [
    "## Primer paso: preprocesar los datos \n",
    "Hacerlo solo una vez"
   ]
  },
  {
   "cell_type": "code",
   "execution_count": 30,
   "metadata": {},
   "outputs": [],
   "source": [
    "#preprocessing.download_data(params)\n",
    "#preprocessing.extract_data(params)\n",
    "#preprocessing.generate_spectogram_images(params)\n",
    "#preprocessing.make_id_label_map(params)\n",
    "preprocessing.split_data(params)"
   ]
  },
  {
   "cell_type": "markdown",
   "metadata": {},
   "source": [
    "## Segund Paso: instanciar el modelo"
   ]
  },
  {
   "cell_type": "code",
   "execution_count": 31,
   "metadata": {},
   "outputs": [
    {
     "name": "stdout",
     "output_type": "stream",
     "text": [
      "_________________________________________________________________\n",
      "Layer (type)                 Output Shape              Param #   \n",
      "=================================================================\n",
      "conv2d_1 (Conv2D)            (None, 55, 240, 3)        444       \n",
      "_________________________________________________________________\n",
      "batch_normalization_2 (Batch (None, 55, 240, 3)        12        \n",
      "_________________________________________________________________\n",
      "activation_3 (Activation)    (None, 55, 240, 3)        0         \n",
      "_________________________________________________________________\n",
      "global_average_pooling2d_1 ( (None, 3)                 0         \n",
      "_________________________________________________________________\n",
      "dense_2 (Dense)              (None, 128)               512       \n",
      "_________________________________________________________________\n",
      "batch_normalization_3 (Batch (None, 128)               512       \n",
      "_________________________________________________________________\n",
      "activation_4 (Activation)    (None, 128)               0         \n",
      "_________________________________________________________________\n",
      "dense_3 (Dense)              (None, 10)                1290      \n",
      "_________________________________________________________________\n",
      "activation_5 (Activation)    (None, 10)                0         \n",
      "=================================================================\n",
      "Total params: 2,770\n",
      "Trainable params: 2,508\n",
      "Non-trainable params: 262\n",
      "_________________________________________________________________\n"
     ]
    }
   ],
   "source": [
    "inputs = tf.keras.layers.Input(shape=(110,480, 3))\n",
    "net = model.ModelArchitecture(num_classes=params['num_classes'])\n",
    "x = net(inputs, training=False)\n",
    "net.summary()"
   ]
  },
  {
   "cell_type": "markdown",
   "metadata": {},
   "source": [
    "## Tercer paso: crear el generador"
   ]
  },
  {
   "cell_type": "code",
   "execution_count": 32,
   "metadata": {},
   "outputs": [
    {
     "name": "stdout",
     "output_type": "stream",
     "text": [
      "Data in train\n",
      "Found 2960 images.\n",
      "Data in validation\n",
      "Found 30 images.\n"
     ]
    }
   ],
   "source": [
    "print('Data in train')\n",
    "train_generator = data.make_datagenerator(params, mode='training')\n",
    "print('Data in validation')\n",
    "val_generator = data.make_datagenerator(params,mode='validation')"
   ]
  },
  {
   "cell_type": "markdown",
   "metadata": {},
   "source": [
    "## Cuarto paso: correr el modelo"
   ]
  },
  {
   "cell_type": "code",
   "execution_count": 33,
   "metadata": {},
   "outputs": [
    {
     "name": "stdout",
     "output_type": "stream",
     "text": [
      "Epoch 1/10\n",
      "370/370 [==============================] - 22s 59ms/step - loss: 2.3011 - sparse_categorical_accuracy: 0.1118 - val_loss: 2.2841 - val_sparse_categorical_accuracy: 0.1667\n",
      "Epoch 2/10\n",
      "314/370 [========================>.....] - ETA: 3s - loss: 2.2987 - sparse_categorical_accuracy: 0.1091- ETWARNING:tensorflow:Method on_batch_end() is slow compared to the batch update (0.116850). Check your callbacks.\n",
      "315/370 [========================>.....] - ETA: 3s - loss: 2.2989 - sparse_categorical_accuracy: 0.1091WARNING:tensorflow:Method on_batch_end() is slow compared to the batch update (0.116850). Check your callbacks.\n",
      "WARNING:tensorflow:Method on_batch_end() is slow compared to the batch update (0.116850). Check your callbacks.\n",
      "317/370 [========================>.....] - ETA: 3s - loss: 2.2991 - sparse_categorical_accuracy: 0.1088WARNING:tensorflow:Method on_batch_end() is slow compared to the batch update (0.116850). Check your callbacks.\n",
      "370/370 [==============================] - 23s 63ms/step - loss: 2.2990 - sparse_categorical_accuracy: 0.1115 - val_loss: 2.2838 - val_sparse_categorical_accuracy: 0.1667\n",
      "Epoch 3/10\n",
      "370/370 [==============================] - 21s 58ms/step - loss: 2.2980 - sparse_categorical_accuracy: 0.1166 - val_loss: 2.2767 - val_sparse_categorical_accuracy: 0.1667\n",
      "Epoch 4/10\n",
      "370/370 [==============================] - 18s 48ms/step - loss: 2.2972 - sparse_categorical_accuracy: 0.1135 - val_loss: 2.2792 - val_sparse_categorical_accuracy: 0.1667\n",
      "Epoch 5/10\n",
      "368/370 [============================>.] - ETA: 0s - loss: 2.2945 - sparse_categorical_accuracy: 0.1165\n",
      "Epoch 00005: saving model to ..\\checkpoints\\tf_ckpt\n",
      "WARNING:tensorflow:This model was compiled with a Keras optimizer (<tensorflow.python.keras.optimizers.Adam object at 0x00000135E2BC1208>) but is being saved in TensorFlow format with `save_weights`. The model's weights will be saved, but unlike with TensorFlow optimizers in the TensorFlow format the optimizer's state will not be saved.\n",
      "\n",
      "Consider using a TensorFlow optimizer from `tf.train`.\n",
      "370/370 [==============================] - 17s 47ms/step - loss: 2.2944 - sparse_categorical_accuracy: 0.1166 - val_loss: 2.2707 - val_sparse_categorical_accuracy: 0.1667\n",
      "Epoch 6/10\n",
      "370/370 [==============================] - 22s 61ms/step - loss: 2.2854 - sparse_categorical_accuracy: 0.1176 - val_loss: 2.2490 - val_sparse_categorical_accuracy: 0.1667\n",
      "Epoch 7/10\n",
      "260/370 [====================>.........] - ETA: 6s - loss: 2.2579 - sparse_categorical_accuracy: 0.1341WARNING:tensorflow:Method on_batch_end() is slow compared to the batch update (0.114534). Check your callbacks.\n",
      "261/370 [====================>.........] - ETA: 6s - loss: 2.2583 - sparse_categorical_accuracy: 0.1346WARNING:tensorflow:Method on_batch_end() is slow compared to the batch update (0.153051). Check your callbacks.\n",
      "262/370 [====================>.........] - ETA: 6s - loss: 2.2586 - sparse_categorical_accuracy: 0.1341WARNING:tensorflow:Method on_batch_end() is slow compared to the batch update (0.153051). Check your callbacks.\n",
      "263/370 [====================>.........] - ETA: 6s - loss: 2.2584 - sparse_categorical_accuracy: 0.1350WARNING:tensorflow:Method on_batch_end() is slow compared to the batch update (0.153051). Check your callbacks.\n",
      "264/370 [====================>.........] - ETA: 6s - loss: 2.2582 - sparse_categorical_accuracy: 0.1349WARNING:tensorflow:Method on_batch_end() is slow compared to the batch update (0.153051). Check your callbacks.\n",
      "265/370 [====================>.........] - ETA: 6s - loss: 2.2577 - sparse_categorical_accuracy: 0.1349WARNING:tensorflow:Method on_batch_end() is slow compared to the batch update (0.145756). Check your callbacks.\n",
      "WARNING:tensorflow:Method on_batch_end() is slow compared to the batch update (0.145756). Check your callbacks.\n",
      "370/370 [==============================] - 22s 59ms/step - loss: 2.2524 - sparse_categorical_accuracy: 0.1429 - val_loss: 2.2005 - val_sparse_categorical_accuracy: 0.2500\n",
      "Epoch 8/10\n",
      "370/370 [==============================] - 22s 59ms/step - loss: 2.1917 - sparse_categorical_accuracy: 0.1899 - val_loss: 2.1484 - val_sparse_categorical_accuracy: 0.2083\n",
      "Epoch 9/10\n",
      "370/370 [==============================] - 21s 58ms/step - loss: 2.1329 - sparse_categorical_accuracy: 0.2068 - val_loss: 2.1109 - val_sparse_categorical_accuracy: 0.1667\n",
      "Epoch 10/10\n",
      "369/370 [============================>.] - ETA: 0s - loss: 2.0926 - sparse_categorical_accuracy: 0.2110\n",
      "Epoch 00010: saving model to ..\\checkpoints\\tf_ckpt\n",
      "WARNING:tensorflow:This model was compiled with a Keras optimizer (<tensorflow.python.keras.optimizers.Adam object at 0x00000135E2BC1208>) but is being saved in TensorFlow format with `save_weights`. The model's weights will be saved, but unlike with TensorFlow optimizers in the TensorFlow format the optimizer's state will not be saved.\n",
      "\n",
      "Consider using a TensorFlow optimizer from `tf.train`.\n",
      "370/370 [==============================] - 23s 61ms/step - loss: 2.0923 - sparse_categorical_accuracy: 0.2111 - val_loss: 2.0656 - val_sparse_categorical_accuracy: 0.1250\n"
     ]
    },
    {
     "data": {
      "text/plain": [
       "<tensorflow.python.keras.callbacks.History at 0x135e3248470>"
      ]
     },
     "execution_count": 33,
     "metadata": {},
     "output_type": "execute_result"
    }
   ],
   "source": [
    "cp_callback = tf.keras.callbacks.ModelCheckpoint(\n",
    "    os.path.join(params['model_dir'], 'tf_ckpt'), \n",
    "    save_weights_only=True, \n",
    "    verbose=1,\n",
    "    period=5)\n",
    "\n",
    "tb_callback = tf.keras.callbacks.TensorBoard(\n",
    "    os.path.join(params['model_dir'], 'logs'))\n",
    "\n",
    "optimizer = tf.keras.optimizers.Adam(params['learning_rate'])\n",
    "\n",
    "steps_per_epoch = train_generator.n // params['batch_size']\n",
    "validation_steps = val_generator.n // params['batch_size']\n",
    "\n",
    "net.compile(optimizer=optimizer, loss=params['loss'], metrics=['sparse_categorical_accuracy'])\n",
    "net.fit_generator(\n",
    "    train_generator, \n",
    "    steps_per_epoch=steps_per_epoch, \n",
    "    epochs=params['num_epochs'],\n",
    "    workers=4,\n",
    "    validation_data=val_generator, \n",
    "    validation_steps=validation_steps,\n",
    "    callbacks=[cp_callback,tb_callback])"
   ]
  },
  {
   "cell_type": "code",
   "execution_count": 34,
   "metadata": {},
   "outputs": [],
   "source": [
    "#fpr, tpr, thresholds = roc_curve(y, probs)"
   ]
  },
  {
   "cell_type": "code",
   "execution_count": 35,
   "metadata": {},
   "outputs": [],
   "source": [
    "# Quintero paso: evaluar el modelo"
   ]
  },
  {
   "cell_type": "code",
   "execution_count": 37,
   "metadata": {},
   "outputs": [
    {
     "name": "stdout",
     "output_type": "stream",
     "text": [
      "Found 30 images.\n"
     ]
    }
   ],
   "source": [
    "params['batch_size'] = val_generator.n\n",
    "params['shuffle'] = False\n",
    "val_generator = data.make_datagenerator(params,mode='validation')"
   ]
  },
  {
   "cell_type": "code",
   "execution_count": 38,
   "metadata": {},
   "outputs": [],
   "source": [
    "Y_pred = net.predict_generator(val_generator, steps=1)\n",
    "y_pred = np.argmax(Y_pred, axis=1)"
   ]
  },
  {
   "cell_type": "code",
   "execution_count": 39,
   "metadata": {},
   "outputs": [
    {
     "name": "stdout",
     "output_type": "stream",
     "text": [
      "Confusion Matrix\n",
      "[[0 1 0 0 0 0 0 0 1 0]\n",
      " [0 1 2 1 0 0 0 0 0 0]\n",
      " [0 3 0 1 0 0 0 0 0 0]\n",
      " [0 1 2 1 0 0 0 0 0 0]\n",
      " [0 1 0 1 0 0 0 0 1 0]\n",
      " [0 3 0 0 0 0 0 0 0 0]\n",
      " [0 0 1 2 0 0 0 0 0 0]\n",
      " [0 1 1 0 0 0 0 0 0 0]\n",
      " [0 1 0 0 0 0 0 0 2 0]\n",
      " [0 1 0 0 0 0 0 0 1 0]]\n",
      "              precision    recall  f1-score   support\n",
      "\n",
      "     arranca       0.00      0.00      0.00         2\n",
      "     acelera       0.08      0.25      0.12         4\n",
      "        pita       0.00      0.00      0.00         4\n",
      "   izquierda       0.17      0.25      0.20         4\n",
      "       frena       0.00      0.00      0.00         3\n",
      "     detente       0.00      0.00      0.00         3\n",
      "   retrocede       0.00      0.00      0.00         3\n",
      "        gira       0.00      0.00      0.00         2\n",
      "      avanza       0.40      0.67      0.50         3\n",
      "     derecha       0.00      0.00      0.00         2\n",
      "\n",
      "   micro avg       0.13      0.13      0.13        30\n",
      "   macro avg       0.06      0.12      0.08        30\n",
      "weighted avg       0.07      0.13      0.09        30\n",
      "\n"
     ]
    }
   ],
   "source": [
    "print('Confusion Matrix')\n",
    "print(confusion_matrix(val_generator.data, y_pred))\n",
    "target_names = [\"arranca\", \"acelera\", \"pita\", \"izquierda\",\"frena\", \"detente\", \"retrocede\", \"gira\", \"avanza\", \"derecha\"]\n",
    "print(classification_report(val_generator.data, y_pred, target_names=target_names))"
   ]
  },
  {
   "cell_type": "code",
   "execution_count": null,
   "metadata": {},
   "outputs": [],
   "source": []
  }
 ],
 "metadata": {
  "kernelspec": {
   "display_name": "Python 3",
   "language": "python",
   "name": "python3"
  },
  "language_info": {
   "codemirror_mode": {
    "name": "ipython",
    "version": 3
   },
   "file_extension": ".py",
   "mimetype": "text/x-python",
   "name": "python",
   "nbconvert_exporter": "python",
   "pygments_lexer": "ipython3",
   "version": "3.6.8"
  }
 },
 "nbformat": 4,
 "nbformat_minor": 2
}
