{
 "cells": [
  {
   "cell_type": "code",
   "execution_count": 12,
   "metadata": {},
   "outputs": [
    {
     "name": "stdout",
     "output_type": "stream",
     "text": [
      "The autoreload extension is already loaded. To reload it, use:\n",
      "  %reload_ext autoreload\n"
     ]
    }
   ],
   "source": [
    "import matplotlib.pyplot as plt\n",
    "import numpy as np\n",
    "import pandas as pd\n",
    "import tensorflow as tf\n",
    "\n",
    "import os\n",
    "import sys\n",
    "\n",
    "from tensorflow import keras\n",
    "\n",
    "sys.path.append('..')\n",
    "import model\n",
    "import utils\n",
    "\n",
    "%matplotlib inline\n",
    "%load_ext autoreload\n",
    "%autoreload 2"
   ]
  },
  {
   "cell_type": "code",
   "execution_count": 2,
   "metadata": {},
   "outputs": [],
   "source": [
    "params = utils.yaml_to_dict(os.path.join('..','config.yml'))\n",
    "params['data_dir'] = os.path.join('..',params['data_dir'])\n",
    "params['model_dir'] = os.path.join('..',params['model_dir'])\n",
    "params['batch_size'] = 10"
   ]
  },
  {
   "cell_type": "code",
   "execution_count": 3,
   "metadata": {},
   "outputs": [],
   "source": [
    "def make_datagenerator(params, mode):\n",
    "    \n",
    "    file_path = mode + '.txt'\n",
    "    data_path = os.path.join(params['data_dir'],file_path)\n",
    "    \n",
    "    df = pd.read_csv(data_path, sep=\"\\t\", header=0)\n",
    "    \n",
    "    datagen = keras.preprocessing.image.ImageDataGenerator(rescale=1./255)\n",
    "    generator = datagen.flow_from_dataframe(\n",
    "        dataframe = df,\n",
    "        x_col = 'images',\n",
    "        target_size = params['image_shape'],\n",
    "        batch_size = params['batch_size'],\n",
    "        class_mode = None)\n",
    "    \n",
    "    return generator"
   ]
  },
  {
   "cell_type": "code",
   "execution_count": 33,
   "metadata": {},
   "outputs": [],
   "source": [
    "def load_model(params):\n",
    "    #tf.keras.backend.clear_session()\n",
    "    width, height = params['image_shape']\n",
    "    inputs = tf.keras.layers.Input(shape=(width, height, 3))\n",
    "    net = model.ModelArchitecture(num_classes=params['num_classes'])\n",
    "    x = net(inputs, training=False)\n",
    "    return net\n",
    "    \n",
    "\n",
    "def make_predictions(generator, params):\n",
    "    \n",
    "    net = load_model(params)\n",
    "    \n",
    "    optimizer = tf.keras.optimizers.Adam(lr=params['learning_rate'])\n",
    "    net.compile(optimizer=optimizer, loss=params['loss'], metrics=['sparse_categorical_accuracy'])\n",
    "    net.load_weights(os.path.join(params['model_dir'], 'tf_ckpt'))\n",
    "    #predictions = net.predict(x=data_to_predict, batch_size=params['batch_size'], verbose=1)\n",
    "    predictions = net.predict_generator(generator)\n",
    "    \n",
    "    return np.argmax(predictions,axis=1)"
   ]
  },
  {
   "cell_type": "code",
   "execution_count": 34,
   "metadata": {},
   "outputs": [],
   "source": [
    "def plot_results(data_to_predict,predictions, params):\n",
    "    \n",
    "    id_label_map = utils.load_id_label_map(params)\n",
    "    \n",
    "    num_audios = len(data_to_predict) if len(data_to_predict)>1 else len(data_to_predict)+1\n",
    "    \n",
    "    fig, axis = plt.subplots(num_audios,2, figsize=(20,20))\n",
    "    \n",
    "    images = data_to_predict[0]\n",
    "    \n",
    "    k = 0\n",
    "    for i in range(len(data_to_predict)):\n",
    "\n",
    "        axis[i][0].imshow(data_to_predict[k])\n",
    "        axis[i][0].axis('off')\n",
    "\n",
    "        pred = id_label_map[predictions[k]]\n",
    "        axis[i][1].text(0.5, 0.5, pred, size=25, ha=\"center\", va=\"center\",\n",
    "                bbox=dict(\n",
    "                    boxstyle=\"round\",\n",
    "                    ec=(1., 0.5, 0.5),\n",
    "                    fc=(1., 0.8, 0.8),\n",
    "                )\n",
    "               )\n",
    "        axis[i][1].set_title('Prediction')\n",
    "        axis[i][1].axis('off')\n",
    "            \n",
    "        k += 1\n",
    "    plt.show()"
   ]
  },
  {
   "cell_type": "code",
   "execution_count": 50,
   "metadata": {},
   "outputs": [
    {
     "name": "stdout",
     "output_type": "stream",
     "text": [
      "Found 30 images.\n"
     ]
    }
   ],
   "source": [
    "generator = make_datagenerator(params,mode='test')"
   ]
  },
  {
   "cell_type": "code",
   "execution_count": 51,
   "metadata": {},
   "outputs": [
    {
     "data": {
      "text/plain": [
       "array([3, 3, 1, 9, 5, 7, 7, 9, 8, 6, 3, 5, 1, 1, 2, 0, 4, 9, 2, 8, 8, 0,\n",
       "       4, 5, 6, 2, 0, 4, 6, 7], dtype=int64)"
      ]
     },
     "execution_count": 51,
     "metadata": {},
     "output_type": "execute_result"
    }
   ],
   "source": [
    "preds = make_predictions(generator,params)\n",
    "preds"
   ]
  }
 ],
 "metadata": {
  "kernelspec": {
   "display_name": "Python 3",
   "language": "python",
   "name": "python3"
  },
  "language_info": {
   "codemirror_mode": {
    "name": "ipython",
    "version": 3
   },
   "file_extension": ".py",
   "mimetype": "text/x-python",
   "name": "python",
   "nbconvert_exporter": "python",
   "pygments_lexer": "ipython3",
   "version": "3.6.8"
  }
 },
 "nbformat": 4,
 "nbformat_minor": 2
}
