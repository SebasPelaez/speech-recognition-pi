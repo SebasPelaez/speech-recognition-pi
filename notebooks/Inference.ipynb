{
 "cells": [
  {
   "cell_type": "code",
   "execution_count": 16,
   "metadata": {},
   "outputs": [
    {
     "name": "stdout",
     "output_type": "stream",
     "text": [
      "The autoreload extension is already loaded. To reload it, use:\n",
      "  %reload_ext autoreload\n"
     ]
    }
   ],
   "source": [
    "import matplotlib.pyplot as plt\n",
    "import numpy as np\n",
    "import pandas as pd\n",
    "import tensorflow as tf\n",
    "\n",
    "import os\n",
    "import sys\n",
    "\n",
    "from tensorflow import keras\n",
    "\n",
    "sys.path.append('..')\n",
    "import model\n",
    "import utils\n",
    "import preprocessing\n",
    "\n",
    "%matplotlib inline\n",
    "%load_ext autoreload\n",
    "%autoreload 2"
   ]
  },
  {
   "cell_type": "code",
   "execution_count": 17,
   "metadata": {},
   "outputs": [],
   "source": [
    "params = utils.yaml_to_dict(os.path.join('..','config.yml'))\n",
    "params['data_dir'] = os.path.join('..',params['data_dir'])\n",
    "params['model_dir'] = os.path.join('..',params['model_dir'])\n",
    "params['batch_size'] = 10"
   ]
  },
  {
   "cell_type": "code",
   "execution_count": 18,
   "metadata": {},
   "outputs": [],
   "source": [
    "def make_datagenerator(params, mode):\n",
    "    \n",
    "    file_path = mode + '.txt'\n",
    "    data_path = os.path.join(params['data_dir'],file_path)\n",
    "    \n",
    "    df = pd.read_csv(data_path, sep=\"\\t\", header=0)\n",
    "    \n",
    "    datagen = keras.preprocessing.image.ImageDataGenerator(rescale=1./255)\n",
    "    generator = datagen.flow_from_dataframe(\n",
    "        dataframe = df,\n",
    "        x_col = 'images',\n",
    "        target_size = params['image_shape'],\n",
    "        batch_size = params['batch_size'],\n",
    "        class_mode = None)\n",
    "    \n",
    "    return generator"
   ]
  },
  {
   "cell_type": "code",
   "execution_count": 19,
   "metadata": {},
   "outputs": [],
   "source": [
    "def load_model(params):\n",
    "    #tf.keras.backend.clear_session()\n",
    "    width, height = params['image_shape']\n",
    "    inputs = tf.keras.layers.Input(shape=(width, height, 3))\n",
    "    net = model.ModelArchitecture(num_classes=params['num_classes'])\n",
    "    x = net(inputs, training=False)\n",
    "    return net\n",
    "    \n",
    "\n",
    "def make_predictions(generator, params):\n",
    "    \n",
    "    net = load_model(params)\n",
    "    \n",
    "    optimizer = tf.keras.optimizers.Adam(lr=params['learning_rate'])\n",
    "    net.compile(optimizer=optimizer, loss=params['loss'], metrics=['sparse_categorical_accuracy'])\n",
    "    net.load_weights(os.path.join(params['model_dir'], 'tf_ckpt'))\n",
    "    #predictions = net.predict(x=data_to_predict, batch_size=params['batch_size'], verbose=1)\n",
    "    predictions = net.predict_generator(generator)\n",
    "    \n",
    "    return np.argmax(predictions,axis=1)"
   ]
  },
  {
   "cell_type": "code",
   "execution_count": 20,
   "metadata": {},
   "outputs": [],
   "source": [
    "def plot_results(data_to_predict,predictions, params):\n",
    "    \n",
    "    id_label_map = utils.load_id_label_map(params)\n",
    "    \n",
    "    num_audios = len(data_to_predict) if len(data_to_predict)>1 else len(data_to_predict)+1\n",
    "    \n",
    "    fig, axis = plt.subplots(num_audios,2, figsize=(20,20))\n",
    "    \n",
    "    images = data_to_predict[0]\n",
    "    \n",
    "    k = 0\n",
    "    for i in range(len(data_to_predict)):\n",
    "\n",
    "        axis[i][0].imshow(data_to_predict[k])\n",
    "        axis[i][0].axis('off')\n",
    "\n",
    "        pred = id_label_map[predictions[k]]\n",
    "        axis[i][1].text(0.5, 0.5, pred, size=25, ha=\"center\", va=\"center\",\n",
    "                bbox=dict(\n",
    "                    boxstyle=\"round\",\n",
    "                    ec=(1., 0.5, 0.5),\n",
    "                    fc=(1., 0.8, 0.8),\n",
    "                )\n",
    "               )\n",
    "        axis[i][1].set_title('Prediction')\n",
    "        axis[i][1].axis('off')\n",
    "            \n",
    "        k += 1\n",
    "    plt.show()"
   ]
  },
  {
   "cell_type": "code",
   "execution_count": 27,
   "metadata": {},
   "outputs": [],
   "source": [
    "from sklearn.metrics import classification_report, confusion_matrix, roc_curve, roc_auc_score\n",
    "\n",
    "def vudu_preds(params):\n",
    "    \n",
    "    \"\"\"\n",
    "    \n",
    "    images_path = os.path.join(params['data_dir'], 'VUDU')\n",
    "    label_id_map = preprocessing._load_label_id_map(params)\n",
    "    \n",
    "    images_list = list()\n",
    "    label_list = list()\n",
    "\n",
    "    for root, dirs, files in os.walk(images_path, topdown=False):\n",
    "        for name in files:\n",
    "\n",
    "            image_name = os.path.join(root, name)\n",
    "            label_class = name[name.index('-')+1:name.rindex('_')]\n",
    "            name_ = label_class[0].upper()+label_class[1:]\n",
    "            \n",
    "            images_list.append(image_name)\n",
    "            label_list.append(label_id_map[name_])\n",
    "    \n",
    "    all_data = pd.DataFrame.from_dict({'images':images_list,'labels':label_list})\n",
    "    \n",
    "    datagen = keras.preprocessing.image.ImageDataGenerator(rescale=1./255)\n",
    "    generator = datagen.flow_from_dataframe(\n",
    "        dataframe = all_data,\n",
    "        x_col = 'images',\n",
    "        y_col = 'labels',\n",
    "        target_size = params['image_shape'],\n",
    "        batch_size = 239,\n",
    "        shuffle=False,\n",
    "        class_mode = params['class_mode'])\n",
    "    \n",
    "    \"\"\"\n",
    "    \n",
    "    datagen = keras.preprocessing.image.ImageDataGenerator(rescale=1./255)\n",
    "    generator = datagen.flow_from_directory(\n",
    "        directory = os.path.join(params['data_dir'],'VUDU'),\n",
    "        target_size = params['image_shape'],\n",
    "        batch_size = 261,\n",
    "        shuffle=False,\n",
    "        class_mode = 'sparse')\n",
    "    \n",
    "    net = load_model(params)\n",
    "    \n",
    "    optimizer = tf.keras.optimizers.Adam(lr=params['learning_rate'])\n",
    "    net.compile(optimizer=optimizer, loss=params['loss'], metrics=['sparse_categorical_accuracy'])\n",
    "    net.load_weights(os.path.join(params['model_dir'], 'tf_ckpt'))\n",
    "    \n",
    "    Y_pred = net.predict_generator(generator, steps=1)\n",
    "    y_pred = np.argmax(Y_pred, axis=1)\n",
    "           \n",
    "    print(confusion_matrix(generator.classes, y_pred))\n",
    "    target_names = [\"acelera\", \"arranca\", \"avanza\", \"derecha\", \"pita\", \"izquierda\",\"frena\", \"detente\", \"retrocede\", \"gira\", ]\n",
    "    print(classification_report(generator.classes, y_pred, target_names=target_names))"
   ]
  },
  {
   "cell_type": "code",
   "execution_count": 28,
   "metadata": {},
   "outputs": [
    {
     "name": "stdout",
     "output_type": "stream",
     "text": [
      "Found 261 images belonging to 10 classes.\n",
      "[[ 8  1  0  0  0  0  0 10  0 10]\n",
      " [ 0  3 26  0  0  1  0  0  0  0]\n",
      " [ 2  0 24  0  0  0  0  0  0  0]\n",
      " [ 0  0  0  8  0  0  0  1  0 13]\n",
      " [ 0  0  0  0  9  0  0  0  0 22]\n",
      " [ 0  0  2  0  0 22  0  0  0  4]\n",
      " [ 1  0  2  0  0  1 22  2  0  0]\n",
      " [ 4  0  5  0  0  4  0 16  0  0]\n",
      " [ 0  1  0  0  0  0  0  5  3  1]\n",
      " [ 0  0  0  0  0  0  0  0  0 28]]\n",
      "              precision    recall  f1-score   support\n",
      "\n",
      "     acelera       0.53      0.28      0.36        29\n",
      "     arranca       0.60      0.10      0.17        30\n",
      "      avanza       0.41      0.92      0.56        26\n",
      "     derecha       1.00      0.36      0.53        22\n",
      "        pita       1.00      0.29      0.45        31\n",
      "   izquierda       0.79      0.79      0.79        28\n",
      "       frena       1.00      0.79      0.88        28\n",
      "     detente       0.47      0.55      0.51        29\n",
      "   retrocede       1.00      0.30      0.46        10\n",
      "        gira       0.36      1.00      0.53        28\n",
      "\n",
      "   micro avg       0.55      0.55      0.55       261\n",
      "   macro avg       0.72      0.54      0.52       261\n",
      "weighted avg       0.69      0.55      0.52       261\n",
      "\n"
     ]
    }
   ],
   "source": [
    "generator = vudu_preds(params)"
   ]
  },
  {
   "cell_type": "code",
   "execution_count": 17,
   "metadata": {},
   "outputs": [
    {
     "data": {
      "text/plain": [
       "array([9, 9, 7, 7, 7, 7, 0, 0, 9, 9, 0, 9, 7, 9, 0, 0, 7, 1, 0, 7, 9, 0,\n",
       "       7, 7, 9, 0, 9, 9, 7, 2, 2, 2, 2, 2, 2, 2, 2, 2, 2, 1, 2, 5, 2, 2,\n",
       "       2, 2, 2, 2, 2, 1, 2, 2, 2, 2, 2, 1, 2, 2, 2, 2, 2, 2, 2, 2, 2, 2,\n",
       "       2, 2, 2, 2, 2, 2, 2, 2, 2, 2, 2, 2, 2, 2, 2, 0, 2, 2, 0, 9, 9, 9,\n",
       "       9, 9, 9, 3, 9, 9, 9, 3, 9, 3, 7, 9, 3, 9, 3, 3, 3, 9, 3, 9, 9, 4,\n",
       "       4, 9, 9, 9, 9, 9, 9, 9, 9, 4, 4, 9, 4, 9, 9, 9, 9, 4, 9, 9, 4, 4,\n",
       "       9, 9, 9, 9, 4, 9, 2, 5, 5, 5, 5, 5, 5, 5, 5, 5, 5, 9, 5, 5, 5, 9,\n",
       "       9, 5, 5, 5, 2, 5, 5, 5, 9, 5, 5, 5, 0, 5, 7, 6, 6, 6, 6, 6, 6, 6,\n",
       "       6, 6, 6, 2, 6, 6, 6, 6, 6, 6, 2, 6, 6, 6, 6, 7, 6, 6, 2, 7, 7, 2,\n",
       "       7, 5, 2, 7, 5, 7, 7, 7, 7, 2, 7, 7, 0, 0, 7, 5, 7, 0, 7, 7, 7, 0,\n",
       "       5, 7, 2, 8, 7, 8, 7, 7, 9, 7, 8, 1, 7], dtype=int64)"
      ]
     },
     "execution_count": 17,
     "metadata": {},
     "output_type": "execute_result"
    }
   ],
   "source": [
    "preds = make_predictions(generator,params)\n",
    "preds"
   ]
  },
  {
   "cell_type": "code",
   "execution_count": null,
   "metadata": {},
   "outputs": [],
   "source": []
  }
 ],
 "metadata": {
  "kernelspec": {
   "display_name": "Python 3",
   "language": "python",
   "name": "python3"
  },
  "language_info": {
   "codemirror_mode": {
    "name": "ipython",
    "version": 3
   },
   "file_extension": ".py",
   "mimetype": "text/x-python",
   "name": "python",
   "nbconvert_exporter": "python",
   "pygments_lexer": "ipython3",
   "version": "3.6.8"
  }
 },
 "nbformat": 4,
 "nbformat_minor": 2
}
