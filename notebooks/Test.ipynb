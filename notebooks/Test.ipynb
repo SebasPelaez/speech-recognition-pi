{
 "cells": [
  {
   "cell_type": "code",
   "execution_count": 1,
   "metadata": {},
   "outputs": [],
   "source": [
    "import sys\n",
    "sys.path.append(\"..\")"
   ]
  },
  {
   "cell_type": "code",
   "execution_count": 11,
   "metadata": {},
   "outputs": [],
   "source": [
    "from srpi.utils import params\n",
    "from srpi.utils.data import (download_data, extract_data)"
   ]
  },
  {
   "cell_type": "code",
   "execution_count": 13,
   "metadata": {},
   "outputs": [
    {
     "name": "stderr",
     "output_type": "stream",
     "text": [
      "../srpi/utils/params.py:7: YAMLLoadWarning: calling yaml.load() without Loader=... is deprecated, as the default Loader is unsafe. Please read https://msg.pyyaml.org/load for full details.\n",
      "  params = yaml.load(stream)\n"
     ]
    }
   ],
   "source": [
    "param = params.yaml_to_dict('../config.yml')"
   ]
  },
  {
   "cell_type": "code",
   "execution_count": 9,
   "metadata": {},
   "outputs": [
    {
     "data": {
      "text/plain": [
       "{'url_dataset': 'https://www.dropbox.com/s/24s1jjgn5bjhb8g/audios-20190517T000334Z-001.zip?dl=1',\n",
       " 'compressed_data_name': 'audios-20190517T000334Z-001.zip',\n",
       " 'data_dir': 'dataset',\n",
       " 'data_dir_audios': 'audios',\n",
       " 'data_dir_fragments': 'audio_fragments',\n",
       " 'data_dir_images': 'images',\n",
       " 'label_id_json': 'labels.json',\n",
       " 'model_dir': 'checkpoints',\n",
       " 'test_data': 'test.txt',\n",
       " 'training_data': 'training.txt',\n",
       " 'validation_data': 'validation.txt',\n",
       " 'image_shape': [224, 224],\n",
       " 'save_audio_fragments': True,\n",
       " 'window_length': 35280,\n",
       " 'shift_frames': 22050,\n",
       " 'frames': 3,\n",
       " 'num_classes': 10,\n",
       " 'batch_size': 10,\n",
       " 'class_mode': 'other',\n",
       " 'num_epochs': 700}"
      ]
     },
     "execution_count": 9,
     "metadata": {},
     "output_type": "execute_result"
    }
   ],
   "source": [
    "params"
   ]
  },
  {
   "cell_type": "code",
   "execution_count": 10,
   "metadata": {},
   "outputs": [],
   "source": [
    "download_data(params)"
   ]
  },
  {
   "cell_type": "code",
   "execution_count": 14,
   "metadata": {},
   "outputs": [],
   "source": [
    "extract_data(param)"
   ]
  },
  {
   "cell_type": "code",
   "execution_count": 25,
   "metadata": {},
   "outputs": [],
   "source": [
    "import numpy as np"
   ]
  },
  {
   "cell_type": "code",
   "execution_count": 47,
   "metadata": {},
   "outputs": [
    {
     "data": {
      "text/plain": [
       "(1025,)"
      ]
     },
     "execution_count": 47,
     "metadata": {},
     "output_type": "execute_result"
    }
   ],
   "source": [
    "np.hanning(1025).shape"
   ]
  }
 ],
 "metadata": {
  "kernelspec": {
   "display_name": "pi2",
   "language": "python",
   "name": "pi2"
  },
  "language_info": {
   "codemirror_mode": {
    "name": "ipython",
    "version": 3
   },
   "file_extension": ".py",
   "mimetype": "text/x-python",
   "name": "python",
   "nbconvert_exporter": "python",
   "pygments_lexer": "ipython3",
   "version": "3.7.3"
  }
 },
 "nbformat": 4,
 "nbformat_minor": 2
}
