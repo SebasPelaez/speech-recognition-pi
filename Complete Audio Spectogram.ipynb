{
 "cells": [
  {
   "cell_type": "code",
   "execution_count": 1,
   "metadata": {},
   "outputs": [
    {
     "name": "stderr",
     "output_type": "stream",
     "text": [
      "Using TensorFlow backend.\n",
      "C:\\Users\\PC\\Anaconda3\\envs\\TensorFlow-GPU-Keras\\lib\\site-packages\\pydub\\utils.py:165: RuntimeWarning: Couldn't find ffmpeg or avconv - defaulting to ffmpeg, but may not work\n",
      "  warn(\"Couldn't find ffmpeg or avconv - defaulting to ffmpeg, but may not work\", RuntimeWarning)\n"
     ]
    }
   ],
   "source": [
    "import tensorflow as tf\n",
    "import matplotlib.pyplot as plt\n",
    "import numpy as np\n",
    "\n",
    "import keras\n",
    "import os\n",
    "import sys\n",
    "\n",
    "from PIL import Image\n",
    "from pyAudioAnalysis import audioBasicIO\n",
    "from pyAudioAnalysis import audioFeatureExtraction\n",
    "\n",
    "sys.path.append('..')\n",
    "import data\n",
    "import model\n",
    "import preprocessing\n",
    "import utils\n",
    "\n",
    "%matplotlib inline\n",
    "%load_ext autoreload\n",
    "%autoreload 2"
   ]
  },
  {
   "cell_type": "code",
   "execution_count": 2,
   "metadata": {},
   "outputs": [],
   "source": [
    "params = utils.yaml_to_dict('config.yml')"
   ]
  },
  {
   "cell_type": "markdown",
   "metadata": {},
   "source": [
    "## Construir el nuevo conjunto de datos\n",
    "\n",
    "Este dataset contiene el Espectograma de la palabra completa, osea que no se le aplica el proceso de separación por ventanas"
   ]
  },
  {
   "cell_type": "code",
   "execution_count": 14,
   "metadata": {},
   "outputs": [],
   "source": [
    "def save_img(spectogram,specgram_folder,file):\n",
    "    \n",
    "    if not os.path.exists(specgram_folder):\n",
    "        os.makedirs(specgram_folder)\n",
    "      \n",
    "    fpath = os.path.join(specgram_folder, file)\n",
    "    im = Image.fromarray(spectogram,'L')\n",
    "    im.save(fpath)\n",
    "\n",
    "def generate_spectogram_images(params):\n",
    "    \n",
    "    shape_list = list()\n",
    "    \n",
    "    audios_path = os.path.join(params['data_dir'],params['data_dir_audios'])\n",
    "    \n",
    "    for root, dirs, files in os.walk(audios_path, topdown=False):\n",
    "        for name in files:\n",
    "            \n",
    "            specgram_folder = os.path.join(params['data_dir'],params['data_dir_images']+'_test',root.split(os.path.sep)[-1])\n",
    "        \n",
    "            [fs, x] = audioBasicIO.readAudioFile(os.path.join(root, name))\n",
    "            x = audioBasicIO.stereo2mono(x)\n",
    "            x = preprocessing._rescaled_signal(x)\n",
    "            \n",
    "            segments = preprocessing._find_segments_from_audio(x=x, fs=fs)\n",
    "            \n",
    "            for i,segment in enumerate(segments):\n",
    "                \n",
    "                imname = 'specgram_matrix_' + os.path.splitext(name)[0] + '_segment' + str(i) + '.png'\n",
    "                audio_fragment = preprocessing._extract_audio_fragments(x=x, fs=fs, segment=segment)\n",
    "\n",
    "                specgram, TimeAxis, FreqAxis = audioFeatureExtraction.stSpectogram(\n",
    "                    audio_fragment,\n",
    "                    fs,\n",
    "                    round(fs * 0.02),\n",
    "                    round(fs * 0.01),\n",
    "                    False)\n",
    "                \n",
    "                shape_list.append(specgram.shape)\n",
    "            \n",
    "                save_img(specgram,specgram_folder,imname)\n",
    "                \n",
    "    return shape_list"
   ]
  },
  {
   "cell_type": "code",
   "execution_count": 15,
   "metadata": {},
   "outputs": [],
   "source": [
    "s_list = generate_spectogram_images(params)\n",
    "w, h = np.mean(s_list, axis=0)"
   ]
  },
  {
   "cell_type": "code",
   "execution_count": 18,
   "metadata": {},
   "outputs": [],
   "source": [
    "#w = int(w)\n",
    "#h = int(h)\n",
    "w = 110\n",
    "h = 480"
   ]
  },
  {
   "cell_type": "code",
   "execution_count": 5,
   "metadata": {},
   "outputs": [],
   "source": [
    "params['data_dir_images'] = 'images_test'\n",
    "preprocessing.split_data(params)"
   ]
  },
  {
   "cell_type": "markdown",
   "metadata": {},
   "source": [
    "## Instanciar el modelo"
   ]
  },
  {
   "cell_type": "code",
   "execution_count": 72,
   "metadata": {},
   "outputs": [
    {
     "name": "stdout",
     "output_type": "stream",
     "text": [
      "_________________________________________________________________\n",
      "Layer (type)                 Output Shape              Param #   \n",
      "=================================================================\n",
      "conv2d_5 (Conv2D)            (None, 55, 240, 64)       9472      \n",
      "_________________________________________________________________\n",
      "batch_normalization_5 (Batch (None, 55, 240, 64)       256       \n",
      "_________________________________________________________________\n",
      "activation_10 (Activation)   (None, 55, 240, 64)       0         \n",
      "_________________________________________________________________\n",
      "global_average_pooling2d_5 ( (None, 64)                0         \n",
      "_________________________________________________________________\n",
      "dense_5 (Dense)              (None, 10)                650       \n",
      "_________________________________________________________________\n",
      "activation_11 (Activation)   (None, 10)                0         \n",
      "=================================================================\n",
      "Total params: 10,378\n",
      "Trainable params: 10,250\n",
      "Non-trainable params: 128\n",
      "_________________________________________________________________\n"
     ]
    }
   ],
   "source": [
    "inputs = tf.keras.layers.Input(shape=(w, h, 3))\n",
    "net = model.ModelArchitecture(num_classes=params['num_classes'])\n",
    "x = net(inputs, training=False)\n",
    "net.summary()"
   ]
  },
  {
   "cell_type": "markdown",
   "metadata": {},
   "source": [
    "## Crear el generador"
   ]
  },
  {
   "cell_type": "code",
   "execution_count": 23,
   "metadata": {},
   "outputs": [],
   "source": [
    "def mk_datagenerator(params,mode):  \n",
    "    \n",
    "    data_path = os.path.join(params['data_dir'],params['data_dir_images'],mode)\n",
    "\n",
    "    datagen = keras.preprocessing.image.ImageDataGenerator(rescale=1./255)\n",
    "    \n",
    "    train_generator = datagen.flow_from_directory(\n",
    "        data_path,\n",
    "        target_size=(w,h),\n",
    "        batch_size=params['batch_size'],\n",
    "        class_mode='categorical')\n",
    "    \n",
    "    return train_generator"
   ]
  },
  {
   "cell_type": "code",
   "execution_count": 74,
   "metadata": {},
   "outputs": [
    {
     "name": "stdout",
     "output_type": "stream",
     "text": [
      "Data in train\n",
      "Found 3050 images belonging to 10 classes.\n"
     ]
    },
    {
     "data": {
      "text/plain": [
       "\"\\nprint('Data in validation')\\ntrain_generator = data.make_datagenerator(params,mode='training')\\nprint('Data in validation')\\nval_generator = data.make_datagenerator(params,mode='validation')\\n\""
      ]
     },
     "execution_count": 74,
     "metadata": {},
     "output_type": "execute_result"
    }
   ],
   "source": [
    "print('Data in train')\n",
    "train_generator = mk_datagenerator(params)\n",
    "\"\"\"\n",
    "print('Data in validation')\n",
    "train_generator = data.make_datagenerator(params,mode='training')\n",
    "print('Data in validation')\n",
    "val_generator = data.make_datagenerator(params,mode='validation')\n",
    "\"\"\""
   ]
  },
  {
   "cell_type": "code",
   "execution_count": 75,
   "metadata": {},
   "outputs": [
    {
     "name": "stderr",
     "output_type": "stream",
     "text": [
      "Clipping input data to the valid range for imshow with RGB data ([0..1] for floats or [0..255] for integers).\n",
      "Clipping input data to the valid range for imshow with RGB data ([0..1] for floats or [0..255] for integers).\n",
      "Clipping input data to the valid range for imshow with RGB data ([0..1] for floats or [0..255] for integers).\n",
      "Clipping input data to the valid range for imshow with RGB data ([0..1] for floats or [0..255] for integers).\n",
      "Clipping input data to the valid range for imshow with RGB data ([0..1] for floats or [0..255] for integers).\n",
      "Clipping input data to the valid range for imshow with RGB data ([0..1] for floats or [0..255] for integers).\n",
      "Clipping input data to the valid range for imshow with RGB data ([0..1] for floats or [0..255] for integers).\n",
      "Clipping input data to the valid range for imshow with RGB data ([0..1] for floats or [0..255] for integers).\n",
      "Clipping input data to the valid range for imshow with RGB data ([0..1] for floats or [0..255] for integers).\n",
      "Clipping input data to the valid range for imshow with RGB data ([0..1] for floats or [0..255] for integers).\n"
     ]
    },
    {
     "data": {
      "image/png": "[encoded data removed]",
      "text/plain": [
       "<Figure size 1080x1080 with 10 Axes>"
      ]
     },
     "metadata": {
      "needs_background": "light"
     },
     "output_type": "display_data"
    }
   ],
   "source": [
    "label_id_map = preprocessing._load_label_id_map(params)\n",
    "label_map = {v:k for (k, v) in label_id_map.items()}\n",
    "\n",
    "fig, axis = plt.subplots(2,5, figsize=(15,15), constrained_layout=True)\n",
    "iteration = next(train_generator)\n",
    "size = len(iteration[0])\n",
    "k = 0\n",
    "for i in range(2):\n",
    "    for j in range(size//2):\n",
    "        \n",
    "        spectogram = iteration[0][k]\n",
    "        label = label_map[np.argmax(iteration[1][k])]\n",
    "    \n",
    "        axis[i][j].imshow(spectogram)\n",
    "        axis[i][j].title.set_text(label)\n",
    "\n",
    "        axis[i][j].get_xaxis().set_visible(False)\n",
    "        axis[i][j].get_yaxis().set_visible(False)\n",
    "        \n",
    "        k += 1\n",
    "plt.show()"
   ]
  },
  {
   "cell_type": "markdown",
   "metadata": {},
   "source": [
    "## Probar el modelo"
   ]
  },
  {
   "cell_type": "code",
   "execution_count": null,
   "metadata": {},
   "outputs": [],
   "source": [
    "cp_callback = tf.keras.callbacks.ModelCheckpoint(\n",
    "    os.path.join(params['model_dir'], 'tf_ckpt'), \n",
    "    save_weights_only=True, \n",
    "    verbose=1,\n",
    "    period=5)\n",
    "\n",
    "tb_callback = tf.keras.callbacks.TensorBoard(\n",
    "    os.path.join(params['model_dir'], 'logs'))\n",
    "\n",
    "optimizer = tf.keras.optimizers.Adam(lr=0.00001)\n",
    "\n",
    "steps_per_epoch = train_generator.n // params['batch_size']\n",
    "#validation_steps = val_generator.n // params['batch_size']\n",
    "\n",
    "net.compile(optimizer=optimizer, loss='categorical_crossentropy', metrics=['categorical_accuracy'])\n",
    "net.fit_generator(\n",
    "    train_generator, \n",
    "    steps_per_epoch=steps_per_epoch, \n",
    "    epochs=params['num_epochs'],\n",
    "    workers=4,\n",
    "    #validation_data=val_generator, \n",
    "    #validation_steps=validation_steps,\n",
    "    callbacks=[cp_callback, tb_callback])"
   ]
  },
  {
   "cell_type": "code",
   "execution_count": 24,
   "metadata": {},
   "outputs": [
    {
     "name": "stdout",
     "output_type": "stream",
     "text": [
      "Found 557 images belonging to 2 classes.\n",
      "Found 50 images belonging to 2 classes.\n"
     ]
    }
   ],
   "source": [
    "train_generator = mk_datagenerator(params,'train')\n",
    "val_generator = mk_datagenerator(params,'validation')"
   ]
  },
  {
   "cell_type": "code",
   "execution_count": 25,
   "metadata": {},
   "outputs": [
    {
     "name": "stdout",
     "output_type": "stream",
     "text": [
      "Epoch 1/30\n",
      "50/50 [==============================] - 5s 108ms/step - loss: 7.1699 - acc: 0.5480 - val_loss: 8.0590 - val_acc: 0.5000\n",
      "Epoch 2/30\n",
      "50/50 [==============================] - 5s 94ms/step - loss: 8.0393 - acc: 0.4994 - val_loss: 8.0590 - val_acc: 0.5000\n",
      "Epoch 3/30\n",
      "50/50 [==============================] - 4s 88ms/step - loss: 9.1594 - acc: 0.4317 - val_loss: 8.0590 - val_acc: 0.5000\n",
      "Epoch 4/30\n",
      "50/50 [==============================] - 5s 97ms/step - loss: 9.1916 - acc: 0.4297 - val_loss: 8.0590 - val_acc: 0.5000\n",
      "Epoch 5/30\n",
      "50/50 [==============================] - 5s 98ms/step - loss: 8.5604 - acc: 0.4689 - val_loss: 8.0590 - val_acc: 0.5000\n",
      "\n",
      "Epoch 00005: saving model to checkpoints\\tf_ckpt\n",
      "Epoch 6/30\n",
      "50/50 [==============================] - 6s 115ms/step - loss: 8.9660 - acc: 0.4437 - val_loss: 8.0590 - val_acc: 0.5000\n",
      "Epoch 7/30\n",
      "50/50 [==============================] - 5s 104ms/step - loss: 9.2374 - acc: 0.4269 - val_loss: 8.0590 - val_acc: 0.5000\n",
      "Epoch 8/30\n",
      "50/50 [==============================] - 5s 98ms/step - loss: 8.7267 - acc: 0.4586 - val_loss: 8.0590 - val_acc: 0.5000\n",
      "Epoch 9/30\n",
      "50/50 [==============================] - 5s 98ms/step - loss: 8.9524 - acc: 0.4446 - val_loss: 8.0590 - val_acc: 0.5000\n",
      "Epoch 10/30\n",
      "50/50 [==============================] - 5s 98ms/step - loss: 8.7682 - acc: 0.4560 - val_loss: 8.0590 - val_acc: 0.5000\n",
      "\n",
      "Epoch 00010: saving model to checkpoints\\tf_ckpt\n",
      "Epoch 11/30\n",
      "50/50 [==============================] - 5s 99ms/step - loss: 9.4767 - acc: 0.4120 - val_loss: 8.0590 - val_acc: 0.5000\n",
      "Epoch 12/30\n",
      "50/50 [==============================] - 5s 107ms/step - loss: 8.7725 - acc: 0.4557 - val_loss: 8.0590 - val_acc: 0.5000\n",
      "Epoch 13/30\n",
      "50/50 [==============================] - 5s 92ms/step - loss: 8.7725 - acc: 0.4557 - val_loss: 8.0590 - val_acc: 0.5000\n",
      "Epoch 14/30\n",
      "50/50 [==============================] - 5s 97ms/step - loss: 9.1459 - acc: 0.4326 - val_loss: 8.0590 - val_acc: 0.5000\n",
      "Epoch 15/30\n",
      "50/50 [==============================] - 4s 87ms/step - loss: 8.7454 - acc: 0.4574 - val_loss: 8.0590 - val_acc: 0.5000\n",
      "\n",
      "Epoch 00015: saving model to checkpoints\\tf_ckpt\n",
      "Epoch 16/30\n",
      "50/50 [==============================] - 5s 96ms/step - loss: 8.8744 - acc: 0.4494 - val_loss: 8.0590 - val_acc: 0.5000\n",
      "Epoch 17/30\n",
      "50/50 [==============================] - 5s 93ms/step - loss: 8.8609 - acc: 0.4503 - val_loss: 8.0590 - val_acc: 0.5000\n",
      "Epoch 18/30\n",
      "50/50 [==============================] - 5s 96ms/step - loss: 9.1781 - acc: 0.4306 - val_loss: 8.0590 - val_acc: 0.5000\n",
      "Epoch 19/30\n",
      "50/50 [==============================] - 5s 97ms/step - loss: 8.9294 - acc: 0.4460 - val_loss: 8.0590 - val_acc: 0.5000\n",
      "Epoch 20/30\n",
      "50/50 [==============================] - 4s 88ms/step - loss: 9.1916 - acc: 0.4297 - val_loss: 8.0590 - val_acc: 0.5000\n",
      "\n",
      "Epoch 00020: saving model to checkpoints\\tf_ckpt\n",
      "Epoch 21/30\n",
      "50/50 [==============================] - 5s 100ms/step - loss: 8.5791 - acc: 0.4677 - val_loss: 8.0590 - val_acc: 0.5000\n",
      "Epoch 22/30\n",
      "50/50 [==============================] - 5s 90ms/step - loss: 9.1085 - acc: 0.4349 - val_loss: 8.0590 - val_acc: 0.5000\n",
      "Epoch 23/30\n",
      "50/50 [==============================] - 5s 103ms/step - loss: 8.8744 - acc: 0.4494 - val_loss: 8.0590 - val_acc: 0.5000\n",
      "Epoch 24/30\n",
      "50/50 [==============================] - 4s 87ms/step - loss: 9.1594 - acc: 0.4317 - val_loss: 8.0590 - val_acc: 0.5000\n",
      "Epoch 25/30\n",
      " 3/50 [>.............................] - ETA: 7s - loss: 5.3727 - acc: 0.6667"
     ]
    },
    {
     "name": "stderr",
     "output_type": "stream",
     "text": [
      "C:\\Users\\PC\\Anaconda3\\envs\\TensorFlow-GPU-Keras\\lib\\site-packages\\keras\\callbacks.py:122: UserWarning: Method on_batch_end() is slow compared to the batch update (0.295228). Check your callbacks.\n",
      "  % delta_t_median)\n",
      "C:\\Users\\PC\\Anaconda3\\envs\\TensorFlow-GPU-Keras\\lib\\site-packages\\keras\\callbacks.py:122: UserWarning: Method on_batch_end() is slow compared to the batch update (0.162587). Check your callbacks.\n",
      "  % delta_t_median)\n"
     ]
    },
    {
     "name": "stdout",
     "output_type": "stream",
     "text": [
      "50/50 [==============================] - 5s 94ms/step - loss: 8.8557 - acc: 0.4506 - val_loss: 8.0590 - val_acc: 0.5000\n",
      "\n",
      "Epoch 00025: saving model to checkpoints\\tf_ckpt\n",
      "Epoch 26/30\n",
      "50/50 [==============================] - 5s 94ms/step - loss: 9.2748 - acc: 0.4246 - val_loss: 8.0590 - val_acc: 0.5000\n",
      "Epoch 27/30\n",
      "50/50 [==============================] - 4s 81ms/step - loss: 8.5468 - acc: 0.4697 - val_loss: 8.0590 - val_acc: 0.5000\n",
      "Epoch 28/30\n",
      "50/50 [==============================] - 4s 89ms/step - loss: 8.9389 - acc: 0.4454 - val_loss: 8.0590 - val_acc: 0.5000\n",
      "Epoch 29/30\n",
      " 4/50 [=>............................] - ETA: 16s - loss: 7.6561 - acc: 0.5250"
     ]
    },
    {
     "name": "stderr",
     "output_type": "stream",
     "text": [
      "C:\\Users\\PC\\Anaconda3\\envs\\TensorFlow-GPU-Keras\\lib\\site-packages\\keras\\callbacks.py:122: UserWarning: Method on_batch_end() is slow compared to the batch update (1.241897). Check your callbacks.\n",
      "  % delta_t_median)\n",
      "C:\\Users\\PC\\Anaconda3\\envs\\TensorFlow-GPU-Keras\\lib\\site-packages\\keras\\callbacks.py:122: UserWarning: Method on_batch_end() is slow compared to the batch update (0.627743). Check your callbacks.\n",
      "  % delta_t_median)\n"
     ]
    },
    {
     "name": "stdout",
     "output_type": "stream",
     "text": [
      "50/50 [==============================] - 5s 104ms/step - loss: 9.0584 - acc: 0.4380 - val_loss: 8.0590 - val_acc: 0.5000\n",
      "Epoch 30/30\n",
      "50/50 [==============================] - 4s 85ms/step - loss: 9.0627 - acc: 0.4377 - val_loss: 8.0590 - val_acc: 0.5000\n",
      "\n",
      "Epoch 00030: saving model to checkpoints\\tf_ckpt\n"
     ]
    },
    {
     "data": {
      "text/plain": [
       "<keras.callbacks.History at 0x24aaedff470>"
      ]
     },
     "execution_count": 25,
     "metadata": {},
     "output_type": "execute_result"
    }
   ],
   "source": [
    "from keras.models import Sequential\n",
    "from keras.layers import Conv2D, MaxPooling2D\n",
    "from keras.layers import Activation, Dropout, Flatten, Dense\n",
    "\n",
    "input_shape = (w, h, 3)\n",
    "\n",
    "model = Sequential()\n",
    "\n",
    "model.add(Conv2D(32, (3, 3), input_shape=input_shape))\n",
    "model.add(Activation('relu'))\n",
    "\n",
    "model.add(Flatten())\n",
    "model.add(Dense(2)) \n",
    "model.add(Activation('softmax')) \n",
    "\n",
    "model.compile(loss='categorical_crossentropy',\n",
    "              optimizer='adam',\n",
    "              metrics=['accuracy'])\n",
    "\n",
    "\n",
    "steps_per_epoch = 50#train_generator.n // params['batch_size']\n",
    "validation_steps = 50#val_generator.n // params['batch_size']\n",
    "\n",
    "cp_callback = tf.keras.callbacks.ModelCheckpoint(\n",
    "    os.path.join(params['model_dir'], 'tf_ckpt'), \n",
    "    save_weights_only=True, \n",
    "    verbose=1,\n",
    "    period=5)\n",
    "\n",
    "tb_callback = tf.keras.callbacks.TensorBoard(\n",
    "    os.path.join(params['model_dir'], 'logs'))\n",
    "\n",
    "model.fit_generator(\n",
    "    train_generator, \n",
    "    steps_per_epoch=steps_per_epoch, \n",
    "    epochs=params['num_epochs'],\n",
    "    workers=4,\n",
    "    validation_data=val_generator, \n",
    "    validation_steps=validation_steps,\n",
    "    callbacks=[cp_callback, tb_callback])"
   ]
  },
  {
   "cell_type": "code",
   "execution_count": null,
   "metadata": {},
   "outputs": [],
   "source": []
  }
 ],
 "metadata": {
  "kernelspec": {
   "display_name": "Python 3",
   "language": "python",
   "name": "python3"
  },
  "language_info": {
   "codemirror_mode": {
    "name": "ipython",
    "version": 3
   },
   "file_extension": ".py",
   "mimetype": "text/x-python",
   "name": "python",
   "nbconvert_exporter": "python",
   "pygments_lexer": "ipython3",
   "version": "3.6.8"
  }
 },
 "nbformat": 4,
 "nbformat_minor": 2
}
